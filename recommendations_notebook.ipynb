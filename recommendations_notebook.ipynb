{
 "cells": [
  {
   "cell_type": "markdown",
   "metadata": {},
   "source": [
    "# Recommendations with IBM\n",
    "\n",
    "In this notebook, you will be putting your recommendation skills to use on real data from the IBM Watson Studio platform. \n",
    "\n",
    "\n",
    "You may either submit your notebook through the workspace here, or you may work from your local machine and submit through the next page.  Either way assure that your code passes the project [RUBRIC](https://review.udacity.com/#!/rubrics/2322/view).  **Please save regularly.**\n",
    "\n",
    "By following the table of contents, you will build out a number of different methods for making recommendations that can be used for different situations. \n",
    "\n",
    "\n",
    "## Table of Contents\n",
    "\n",
    "I. [Exploratory Data Analysis (EDA)](#Exploratory-Data-Analysis)<br>\n",
    "II. [Rank Based Recommendations](#Rank)<br>\n",
    "III. [User-User Based Collaborative Filtering](#User-User)<br>\n",
    "IV. [Content Based Recommendations (EXTRA - NOT REQUIRED)](#Content-Recs)<br>\n",
    "V. [Matrix Factorization](#Matrix-Fact)<br>\n",
    "VI. [Extras & Concluding](#conclusions)\n",
    "\n",
    "At the end of the notebook, you will find directions for how to submit your work.  Let's get started by importing the necessary libraries and reading in the data."
   ]
  },
  {
   "cell_type": "code",
   "execution_count": 1,
   "metadata": {},
   "outputs": [],
   "source": [
    "# Import third-party packages.\n",
    "import matplotlib.pyplot as plt\n",
    "import numpy as np\n",
    "import pandas as pd\n",
    "import pickle\n",
    "\n",
    "# Import custom package by Udacity.\n",
    "import project_tests as t\n",
    "\n",
    "%matplotlib inline"
   ]
  },
  {
   "cell_type": "code",
   "execution_count": 2,
   "metadata": {},
   "outputs": [],
   "source": [
    "# Read in data from .csv files\n",
    "df = pd.read_csv('data/user-item-interactions.csv')\n",
    "df_content = pd.read_csv('data/articles_community.csv')\n",
    "del df['Unnamed: 0']\n",
    "del df_content['Unnamed: 0']"
   ]
  },
  {
   "cell_type": "code",
   "execution_count": 3,
   "metadata": {},
   "outputs": [
    {
     "data": {
      "text/html": [
       "<div>\n",
       "<style scoped>\n",
       "    .dataframe tbody tr th:only-of-type {\n",
       "        vertical-align: middle;\n",
       "    }\n",
       "\n",
       "    .dataframe tbody tr th {\n",
       "        vertical-align: top;\n",
       "    }\n",
       "\n",
       "    .dataframe thead th {\n",
       "        text-align: right;\n",
       "    }\n",
       "</style>\n",
       "<table border=\"1\" class=\"dataframe\">\n",
       "  <thead>\n",
       "    <tr style=\"text-align: right;\">\n",
       "      <th></th>\n",
       "      <th>article_id</th>\n",
       "      <th>title</th>\n",
       "      <th>email</th>\n",
       "    </tr>\n",
       "  </thead>\n",
       "  <tbody>\n",
       "    <tr>\n",
       "      <th>0</th>\n",
       "      <td>1430.0</td>\n",
       "      <td>using pixiedust for fast, flexible, and easier...</td>\n",
       "      <td>ef5f11f77ba020cd36e1105a00ab868bbdbf7fe7</td>\n",
       "    </tr>\n",
       "    <tr>\n",
       "      <th>1</th>\n",
       "      <td>1314.0</td>\n",
       "      <td>healthcare python streaming application demo</td>\n",
       "      <td>083cbdfa93c8444beaa4c5f5e0f5f9198e4f9e0b</td>\n",
       "    </tr>\n",
       "    <tr>\n",
       "      <th>2</th>\n",
       "      <td>1429.0</td>\n",
       "      <td>use deep learning for image classification</td>\n",
       "      <td>b96a4f2e92d8572034b1e9b28f9ac673765cd074</td>\n",
       "    </tr>\n",
       "    <tr>\n",
       "      <th>3</th>\n",
       "      <td>1338.0</td>\n",
       "      <td>ml optimization using cognitive assistant</td>\n",
       "      <td>06485706b34a5c9bf2a0ecdac41daf7e7654ceb7</td>\n",
       "    </tr>\n",
       "    <tr>\n",
       "      <th>4</th>\n",
       "      <td>1276.0</td>\n",
       "      <td>deploy your python model as a restful api</td>\n",
       "      <td>f01220c46fc92c6e6b161b1849de11faacd7ccb2</td>\n",
       "    </tr>\n",
       "  </tbody>\n",
       "</table>\n",
       "</div>"
      ],
      "text/plain": [
       "   article_id                                              title  \\\n",
       "0      1430.0  using pixiedust for fast, flexible, and easier...   \n",
       "1      1314.0       healthcare python streaming application demo   \n",
       "2      1429.0         use deep learning for image classification   \n",
       "3      1338.0          ml optimization using cognitive assistant   \n",
       "4      1276.0          deploy your python model as a restful api   \n",
       "\n",
       "                                      email  \n",
       "0  ef5f11f77ba020cd36e1105a00ab868bbdbf7fe7  \n",
       "1  083cbdfa93c8444beaa4c5f5e0f5f9198e4f9e0b  \n",
       "2  b96a4f2e92d8572034b1e9b28f9ac673765cd074  \n",
       "3  06485706b34a5c9bf2a0ecdac41daf7e7654ceb7  \n",
       "4  f01220c46fc92c6e6b161b1849de11faacd7ccb2  "
      ]
     },
     "execution_count": 3,
     "metadata": {},
     "output_type": "execute_result"
    }
   ],
   "source": [
    "# Show df to get an idea of the data.\n",
    "df.head()"
   ]
  },
  {
   "cell_type": "code",
   "execution_count": 4,
   "metadata": {},
   "outputs": [
    {
     "data": {
      "text/html": [
       "<div>\n",
       "<style scoped>\n",
       "    .dataframe tbody tr th:only-of-type {\n",
       "        vertical-align: middle;\n",
       "    }\n",
       "\n",
       "    .dataframe tbody tr th {\n",
       "        vertical-align: top;\n",
       "    }\n",
       "\n",
       "    .dataframe thead th {\n",
       "        text-align: right;\n",
       "    }\n",
       "</style>\n",
       "<table border=\"1\" class=\"dataframe\">\n",
       "  <thead>\n",
       "    <tr style=\"text-align: right;\">\n",
       "      <th></th>\n",
       "      <th>doc_body</th>\n",
       "      <th>doc_description</th>\n",
       "      <th>doc_full_name</th>\n",
       "      <th>doc_status</th>\n",
       "      <th>article_id</th>\n",
       "    </tr>\n",
       "  </thead>\n",
       "  <tbody>\n",
       "    <tr>\n",
       "      <th>0</th>\n",
       "      <td>Skip navigation Sign in SearchLoading...\\r\\n\\r...</td>\n",
       "      <td>Detect bad readings in real time using Python ...</td>\n",
       "      <td>Detect Malfunctioning IoT Sensors with Streami...</td>\n",
       "      <td>Live</td>\n",
       "      <td>0</td>\n",
       "    </tr>\n",
       "    <tr>\n",
       "      <th>1</th>\n",
       "      <td>No Free Hunch Navigation * kaggle.com\\r\\n\\r\\n ...</td>\n",
       "      <td>See the forest, see the trees. Here lies the c...</td>\n",
       "      <td>Communicating data science: A guide to present...</td>\n",
       "      <td>Live</td>\n",
       "      <td>1</td>\n",
       "    </tr>\n",
       "    <tr>\n",
       "      <th>2</th>\n",
       "      <td>☰ * Login\\r\\n * Sign Up\\r\\n\\r\\n * Learning Pat...</td>\n",
       "      <td>Here’s this week’s news in Data Science and Bi...</td>\n",
       "      <td>This Week in Data Science (April 18, 2017)</td>\n",
       "      <td>Live</td>\n",
       "      <td>2</td>\n",
       "    </tr>\n",
       "    <tr>\n",
       "      <th>3</th>\n",
       "      <td>DATALAYER: HIGH THROUGHPUT, LOW LATENCY AT SCA...</td>\n",
       "      <td>Learn how distributed DBs solve the problem of...</td>\n",
       "      <td>DataLayer Conference: Boost the performance of...</td>\n",
       "      <td>Live</td>\n",
       "      <td>3</td>\n",
       "    </tr>\n",
       "    <tr>\n",
       "      <th>4</th>\n",
       "      <td>Skip navigation Sign in SearchLoading...\\r\\n\\r...</td>\n",
       "      <td>This video demonstrates the power of IBM DataS...</td>\n",
       "      <td>Analyze NY Restaurant data using Spark in DSX</td>\n",
       "      <td>Live</td>\n",
       "      <td>4</td>\n",
       "    </tr>\n",
       "  </tbody>\n",
       "</table>\n",
       "</div>"
      ],
      "text/plain": [
       "                                            doc_body  \\\n",
       "0  Skip navigation Sign in SearchLoading...\\r\\n\\r...   \n",
       "1  No Free Hunch Navigation * kaggle.com\\r\\n\\r\\n ...   \n",
       "2  ☰ * Login\\r\\n * Sign Up\\r\\n\\r\\n * Learning Pat...   \n",
       "3  DATALAYER: HIGH THROUGHPUT, LOW LATENCY AT SCA...   \n",
       "4  Skip navigation Sign in SearchLoading...\\r\\n\\r...   \n",
       "\n",
       "                                     doc_description  \\\n",
       "0  Detect bad readings in real time using Python ...   \n",
       "1  See the forest, see the trees. Here lies the c...   \n",
       "2  Here’s this week’s news in Data Science and Bi...   \n",
       "3  Learn how distributed DBs solve the problem of...   \n",
       "4  This video demonstrates the power of IBM DataS...   \n",
       "\n",
       "                                       doc_full_name doc_status  article_id  \n",
       "0  Detect Malfunctioning IoT Sensors with Streami...       Live           0  \n",
       "1  Communicating data science: A guide to present...       Live           1  \n",
       "2         This Week in Data Science (April 18, 2017)       Live           2  \n",
       "3  DataLayer Conference: Boost the performance of...       Live           3  \n",
       "4      Analyze NY Restaurant data using Spark in DSX       Live           4  "
      ]
     },
     "execution_count": 4,
     "metadata": {},
     "output_type": "execute_result"
    }
   ],
   "source": [
    "# Show df_content to get an idea of the data.\n",
    "df_content.head()"
   ]
  },
  {
   "cell_type": "markdown",
   "metadata": {},
   "source": [
    " "
   ]
  },
  {
   "cell_type": "markdown",
   "metadata": {},
   "source": [
    " "
   ]
  },
  {
   "cell_type": "markdown",
   "metadata": {},
   "source": [
    " "
   ]
  },
  {
   "cell_type": "markdown",
   "metadata": {},
   "source": [
    " "
   ]
  },
  {
   "cell_type": "markdown",
   "metadata": {},
   "source": [
    "### <a class=\"anchor\" id=\"Exploratory-Data-Analysis (EDA)\">Part I : Exploratory Data Analysis (EDA)</a>\n",
    "\n",
    "`1.` **Task**: What is the distribution of how many articles a user interacts with in the dataset?  Provide a visual and descriptive statistics to assist with giving a look at the number of times each user interacts with an article.  "
   ]
  },
  {
   "cell_type": "markdown",
   "metadata": {},
   "source": [
    "### EDA of 'df'"
   ]
  },
  {
   "cell_type": "code",
   "execution_count": 5,
   "metadata": {},
   "outputs": [
    {
     "name": "stdout",
     "output_type": "stream",
     "text": [
      "<class 'pandas.core.frame.DataFrame'>\n",
      "RangeIndex: 45993 entries, 0 to 45992\n",
      "Data columns (total 3 columns):\n",
      " #   Column      Non-Null Count  Dtype  \n",
      "---  ------      --------------  -----  \n",
      " 0   article_id  45993 non-null  float64\n",
      " 1   title       45993 non-null  object \n",
      " 2   email       45976 non-null  object \n",
      "dtypes: float64(1), object(2)\n",
      "memory usage: 1.1+ MB\n"
     ]
    }
   ],
   "source": [
    "df.info()"
   ]
  },
  {
   "cell_type": "code",
   "execution_count": 6,
   "metadata": {},
   "outputs": [
    {
     "name": "stdout",
     "output_type": "stream",
     "text": [
      "Unique values in column 'article_id' : 714\n",
      "Unique values in column 'title' : 714\n",
      "Unique values in column 'email' : 5148\n"
     ]
    }
   ],
   "source": [
    "for col in df:\n",
    "    print(\"Unique values in column '{}' : {}\".format(col, df[col].nunique()))"
   ]
  },
  {
   "cell_type": "markdown",
   "metadata": {},
   "source": [
    "#### Checking for missing data in 'df'"
   ]
  },
  {
   "cell_type": "code",
   "execution_count": 7,
   "metadata": {},
   "outputs": [
    {
     "name": "stdout",
     "output_type": "stream",
     "text": [
      "17 entries in df have missing information.\n"
     ]
    }
   ],
   "source": [
    "n_nans_df = len(df[df.isna().any(1)])\n",
    "print(\"{} entries in df have missing information.\".format(n_nans_df))"
   ]
  },
  {
   "cell_type": "code",
   "execution_count": 8,
   "metadata": {
    "scrolled": true
   },
   "outputs": [
    {
     "data": {
      "text/html": [
       "<div>\n",
       "<style scoped>\n",
       "    .dataframe tbody tr th:only-of-type {\n",
       "        vertical-align: middle;\n",
       "    }\n",
       "\n",
       "    .dataframe tbody tr th {\n",
       "        vertical-align: top;\n",
       "    }\n",
       "\n",
       "    .dataframe thead th {\n",
       "        text-align: right;\n",
       "    }\n",
       "</style>\n",
       "<table border=\"1\" class=\"dataframe\">\n",
       "  <thead>\n",
       "    <tr style=\"text-align: right;\">\n",
       "      <th></th>\n",
       "      <th>article_id</th>\n",
       "      <th>title</th>\n",
       "      <th>email</th>\n",
       "    </tr>\n",
       "  </thead>\n",
       "  <tbody>\n",
       "    <tr>\n",
       "      <th>25131</th>\n",
       "      <td>1016.0</td>\n",
       "      <td>why you should master r (even if it might even...</td>\n",
       "      <td>NaN</td>\n",
       "    </tr>\n",
       "    <tr>\n",
       "      <th>29758</th>\n",
       "      <td>1393.0</td>\n",
       "      <td>the nurse assignment problem</td>\n",
       "      <td>NaN</td>\n",
       "    </tr>\n",
       "    <tr>\n",
       "      <th>29759</th>\n",
       "      <td>20.0</td>\n",
       "      <td>working interactively with rstudio and noteboo...</td>\n",
       "      <td>NaN</td>\n",
       "    </tr>\n",
       "    <tr>\n",
       "      <th>29760</th>\n",
       "      <td>1174.0</td>\n",
       "      <td>breast cancer wisconsin (diagnostic) data set</td>\n",
       "      <td>NaN</td>\n",
       "    </tr>\n",
       "    <tr>\n",
       "      <th>29761</th>\n",
       "      <td>62.0</td>\n",
       "      <td>data visualization: the importance of excludin...</td>\n",
       "      <td>NaN</td>\n",
       "    </tr>\n",
       "    <tr>\n",
       "      <th>35264</th>\n",
       "      <td>224.0</td>\n",
       "      <td>using apply, sapply, lapply in r</td>\n",
       "      <td>NaN</td>\n",
       "    </tr>\n",
       "    <tr>\n",
       "      <th>35276</th>\n",
       "      <td>961.0</td>\n",
       "      <td>beyond parallelize and collect</td>\n",
       "      <td>NaN</td>\n",
       "    </tr>\n",
       "    <tr>\n",
       "      <th>35277</th>\n",
       "      <td>268.0</td>\n",
       "      <td>sector correlations shiny app</td>\n",
       "      <td>NaN</td>\n",
       "    </tr>\n",
       "    <tr>\n",
       "      <th>35278</th>\n",
       "      <td>268.0</td>\n",
       "      <td>sector correlations shiny app</td>\n",
       "      <td>NaN</td>\n",
       "    </tr>\n",
       "    <tr>\n",
       "      <th>35279</th>\n",
       "      <td>268.0</td>\n",
       "      <td>sector correlations shiny app</td>\n",
       "      <td>NaN</td>\n",
       "    </tr>\n",
       "    <tr>\n",
       "      <th>35280</th>\n",
       "      <td>268.0</td>\n",
       "      <td>sector correlations shiny app</td>\n",
       "      <td>NaN</td>\n",
       "    </tr>\n",
       "    <tr>\n",
       "      <th>35281</th>\n",
       "      <td>415.0</td>\n",
       "      <td>using machine learning to predict value of hom...</td>\n",
       "      <td>NaN</td>\n",
       "    </tr>\n",
       "    <tr>\n",
       "      <th>35282</th>\n",
       "      <td>846.0</td>\n",
       "      <td>pearson correlation aggregation on sparksql</td>\n",
       "      <td>NaN</td>\n",
       "    </tr>\n",
       "    <tr>\n",
       "      <th>35283</th>\n",
       "      <td>268.0</td>\n",
       "      <td>sector correlations shiny app</td>\n",
       "      <td>NaN</td>\n",
       "    </tr>\n",
       "    <tr>\n",
       "      <th>35284</th>\n",
       "      <td>162.0</td>\n",
       "      <td>an introduction to stock market data analysis ...</td>\n",
       "      <td>NaN</td>\n",
       "    </tr>\n",
       "    <tr>\n",
       "      <th>42749</th>\n",
       "      <td>647.0</td>\n",
       "      <td>getting started with apache mahout</td>\n",
       "      <td>NaN</td>\n",
       "    </tr>\n",
       "    <tr>\n",
       "      <th>42750</th>\n",
       "      <td>965.0</td>\n",
       "      <td>data visualization playbook: revisiting the ba...</td>\n",
       "      <td>NaN</td>\n",
       "    </tr>\n",
       "  </tbody>\n",
       "</table>\n",
       "</div>"
      ],
      "text/plain": [
       "       article_id                                              title email\n",
       "25131      1016.0  why you should master r (even if it might even...   NaN\n",
       "29758      1393.0                       the nurse assignment problem   NaN\n",
       "29759        20.0  working interactively with rstudio and noteboo...   NaN\n",
       "29760      1174.0      breast cancer wisconsin (diagnostic) data set   NaN\n",
       "29761        62.0  data visualization: the importance of excludin...   NaN\n",
       "35264       224.0                   using apply, sapply, lapply in r   NaN\n",
       "35276       961.0                     beyond parallelize and collect   NaN\n",
       "35277       268.0                      sector correlations shiny app   NaN\n",
       "35278       268.0                      sector correlations shiny app   NaN\n",
       "35279       268.0                      sector correlations shiny app   NaN\n",
       "35280       268.0                      sector correlations shiny app   NaN\n",
       "35281       415.0  using machine learning to predict value of hom...   NaN\n",
       "35282       846.0        pearson correlation aggregation on sparksql   NaN\n",
       "35283       268.0                      sector correlations shiny app   NaN\n",
       "35284       162.0  an introduction to stock market data analysis ...   NaN\n",
       "42749       647.0                 getting started with apache mahout   NaN\n",
       "42750       965.0  data visualization playbook: revisiting the ba...   NaN"
      ]
     },
     "execution_count": 8,
     "metadata": {},
     "output_type": "execute_result"
    }
   ],
   "source": [
    "df[df.isna().any(1)]"
   ]
  },
  {
   "cell_type": "markdown",
   "metadata": {},
   "source": [
    "#### Understanding column: 'article_id'"
   ]
  },
  {
   "cell_type": "code",
   "execution_count": 9,
   "metadata": {},
   "outputs": [
    {
     "name": "stdout",
     "output_type": "stream",
     "text": [
      "Number of articles in df: 714\n"
     ]
    }
   ],
   "source": [
    "article_data = df.groupby(['article_id']).count()\n",
    "num_articles_interacted = article_data.shape[0]\n",
    "print(\"Number of articles in df: {}\".format(num_articles_interacted))"
   ]
  },
  {
   "cell_type": "code",
   "execution_count": 10,
   "metadata": {},
   "outputs": [
    {
     "name": "stdout",
     "output_type": "stream",
     "text": [
      "Smallest article ID: 0.0\n",
      "Highest article ID: 1444.0\n"
     ]
    }
   ],
   "source": [
    "print(\"Smallest article ID: {}\".format(df.article_id.min()))\n",
    "print(\"Highest article ID: {}\".format(df.article_id.max()))"
   ]
  },
  {
   "cell_type": "code",
   "execution_count": 11,
   "metadata": {},
   "outputs": [],
   "source": [
    "top_ten_articles = list(df['article_id'].value_counts().head(10).index)"
   ]
  },
  {
   "cell_type": "markdown",
   "metadata": {},
   "source": [
    "#### Understanding column: 'email'"
   ]
  },
  {
   "cell_type": "code",
   "execution_count": 12,
   "metadata": {},
   "outputs": [
    {
     "name": "stdout",
     "output_type": "stream",
     "text": [
      "Number of email_ids or users: 5148\n"
     ]
    }
   ],
   "source": [
    "num_emails = df['email'].nunique()\n",
    "print(\"Number of email_ids or users: {}\".format(num_emails))"
   ]
  },
  {
   "cell_type": "code",
   "execution_count": 13,
   "metadata": {},
   "outputs": [],
   "source": [
    "top_ten_most_active_email_ids = list(df['email'].value_counts().head(10).index)"
   ]
  },
  {
   "cell_type": "markdown",
   "metadata": {},
   "source": [
    "#### What is the distribution of how many articles a user interacts with in the dataset?"
   ]
  },
  {
   "cell_type": "code",
   "execution_count": 14,
   "metadata": {},
   "outputs": [],
   "source": [
    "user_data = df.groupby(['email']).count().drop(['title'], axis=1).sort_values('article_id', ascending=False)"
   ]
  },
  {
   "cell_type": "code",
   "execution_count": 15,
   "metadata": {
    "scrolled": true
   },
   "outputs": [
    {
     "name": "stdout",
     "output_type": "stream",
     "text": [
      "There are 5148 email_ids - or users - in df.\n",
      "On average, a user interacts with 9.0 articles.\n",
      "The least interaction a user had: 1 articles.\n",
      "The most interaction a user had: 364 articles.\n",
      "50% of users interact with a minimum of 3.0 articles.\n",
      "Most users (n = 1416 or about 30.0%) interact with 1 article.\n",
      "The distribution of articles per user in df is right skewed.\n"
     ]
    }
   ],
   "source": [
    "num_email_ids = user_data.shape[0]\n",
    "if num_email_ids == num_emails:\n",
    "    print(\"There are {} email_ids - or users - in df.\".format(num_email_ids))\n",
    "\n",
    "avg_article_interaction_per_user = user_data.article_id.mean()\n",
    "print(\"On average, a user interacts with {} articles.\".format(np.round(avg_article_interaction_per_user)))\n",
    "\n",
    "min_article_interaction_per_user = user_data.article_id.min()\n",
    "print(\"The least interaction a user had: {} articles.\".format(np.round(min_article_interaction_per_user)))\n",
    "\n",
    "max_article_interaction_per_user = user_data.article_id.max()\n",
    "print(\"The most interaction a user had: {} articles.\".format(np.round(max_article_interaction_per_user)))\n",
    "\n",
    "median_article_interaction_per_user = user_data.article_id.median()\n",
    "print(\"50% of users interact with a minimum of {} articles.\".format(np.round(median_article_interaction_per_user)))\n",
    "\n",
    "mode_article_interaction_per_user = user_data.article_id.mode()[0]\n",
    "mode_num_users = len(user_data[user_data.article_id == mode_article_interaction_per_user])\n",
    "mode_num_users_percentage = np.round((mode_num_users / num_email_ids), 1) * 100\n",
    "print(\"Most users (n = {} or about {}%) interact with {} article.\".format(mode_num_users, mode_num_users_percentage, np.round(mode_article_interaction_per_user)))\n",
    "\n",
    "if (mode_article_interaction_per_user < median_article_interaction_per_user) & (median_article_interaction_per_user < avg_article_interaction_per_user):\n",
    "    print(\"The distribution of articles per user in df is right skewed.\")\n",
    "elif (avg_article_interaction_per_user < median_article_interaction_per_user) & (median_article_interaction_per_user < mode_article_interaction_per_user):\n",
    "    print(\"The distribution of articles per user in df is left skewed.\")\n",
    "else:\n",
    "    print(\"A visual analysis of the distribution of articles per user in df is necessary.\")"
   ]
  },
  {
   "cell_type": "markdown",
   "metadata": {},
   "source": [
    "**Task**: Fill in the median and maximum number of user_article interactios below:"
   ]
  },
  {
   "cell_type": "code",
   "execution_count": 16,
   "metadata": {},
   "outputs": [],
   "source": [
    "median_val = median_article_interaction_per_user\n",
    "max_views_by_user = max_article_interaction_per_user"
   ]
  },
  {
   "cell_type": "code",
   "execution_count": 17,
   "metadata": {},
   "outputs": [],
   "source": [
    "# Count how many articles each user has read.\n",
    "df_visual = df.groupby(['email']).count().iloc[:, 0]"
   ]
  },
  {
   "cell_type": "code",
   "execution_count": 18,
   "metadata": {},
   "outputs": [
    {
     "data": {
      "text/plain": [
       "count    5148.000000\n",
       "mean        8.930847\n",
       "std        16.802267\n",
       "min         1.000000\n",
       "25%         1.000000\n",
       "50%         3.000000\n",
       "75%         9.000000\n",
       "max       364.000000\n",
       "Name: article_id, dtype: float64"
      ]
     },
     "execution_count": 18,
     "metadata": {},
     "output_type": "execute_result"
    }
   ],
   "source": [
    "df_visual.describe()"
   ]
  },
  {
   "cell_type": "code",
   "execution_count": 19,
   "metadata": {},
   "outputs": [
    {
     "data": {
      "text/plain": [
       "Text(0.5, 1.0, 'Distribution of how many articles a user interacts with')"
      ]
     },
     "execution_count": 19,
     "metadata": {},
     "output_type": "execute_result"
    },
    {
     "data": {
      "image/png": "[encoded data removed]",
      "text/plain": [
       "<Figure size 432x288 with 1 Axes>"
      ]
     },
     "metadata": {
      "needs_background": "light"
     },
     "output_type": "display_data"
    }
   ],
   "source": [
    "# As the data in 'df' is right skewed, we can focus on plotting the left part of the graph. I take the standard deviation as the\n",
    "# upper range limit for bins. This leaves out extreme values, such as the maximum value 364, which occur only once or twice in \n",
    "# the dataset.\n",
    "plt.hist(df_visual, bins=11, range=[0, np.std(df_visual)])\n",
    "plt.xlabel('Number of articles read per user')\n",
    "plt.xlim(0, np.std(df_visual))\n",
    "plt.ylabel('Count')\n",
    "plt.title('Distribution of how many articles a user interacts with')"
   ]
  },
  {
   "cell_type": "code",
   "execution_count": 20,
   "metadata": {},
   "outputs": [
    {
     "data": {
      "text/plain": [
       "Text(0.5, 1.0, 'Distribution of how many articles a user interacts with (continued)')"
      ]
     },
     "execution_count": 20,
     "metadata": {},
     "output_type": "execute_result"
    },
    {
     "data": {
      "image/png": "[encoded data removed]",
      "text/plain": [
       "<Figure size 432x288 with 1 Axes>"
      ]
     },
     "metadata": {
      "needs_background": "light"
     },
     "output_type": "display_data"
    }
   ],
   "source": [
    "# Nonetheless, I also tried to plot the remaining parts of the distribution. The following two figures confirm that the data in\n",
    "# 'df' on the number of articles per user is heavily right skewed.\n",
    "plt.hist(df_visual, bins=20, range=[17, 50])\n",
    "plt.xlabel('Number of articles read per user')\n",
    "plt.xlim(17, 50)\n",
    "plt.xticks(np.arange(17, 50, 7))\n",
    "plt.ylabel('Count')\n",
    "plt.ylim(0, 1400)\n",
    "plt.title('Distribution of how many articles a user interacts with (continued)')"
   ]
  },
  {
   "cell_type": "code",
   "execution_count": 21,
   "metadata": {},
   "outputs": [
    {
     "data": {
      "text/plain": [
       "Text(0.5, 1.0, 'Distribution of how many articles a user interacts with (continued)')"
      ]
     },
     "execution_count": 21,
     "metadata": {},
     "output_type": "execute_result"
    },
    {
     "data": {
      "image/png": "[encoded data removed]",
      "text/plain": [
       "<Figure size 432x288 with 1 Axes>"
      ]
     },
     "metadata": {
      "needs_background": "light"
     },
     "output_type": "display_data"
    }
   ],
   "source": [
    "plt.hist(df_visual, bins=50, range=[50, np.max(df_visual)])\n",
    "plt.xlabel('Number of articles read per user')\n",
    "plt.xlim(50, np.max(df_visual))\n",
    "plt.xticks(np.arange(50, np.max(df_visual), 50))\n",
    "plt.ylabel('Count')\n",
    "plt.ylim(0, 1400)\n",
    "plt.title('Distribution of how many articles a user interacts with (continued)')"
   ]
  },
  {
   "cell_type": "markdown",
   "metadata": {},
   "source": [
    " "
   ]
  },
  {
   "cell_type": "markdown",
   "metadata": {},
   "source": [
    " "
   ]
  },
  {
   "cell_type": "markdown",
   "metadata": {},
   "source": [
    " "
   ]
  },
  {
   "cell_type": "markdown",
   "metadata": {},
   "source": [
    " "
   ]
  },
  {
   "cell_type": "markdown",
   "metadata": {},
   "source": [
    "`2.` **Task**: Explore and remove duplicate articles from the **df_content** dataframe.  "
   ]
  },
  {
   "cell_type": "markdown",
   "metadata": {},
   "source": [
    "### EDA of 'df_content'"
   ]
  },
  {
   "cell_type": "code",
   "execution_count": 22,
   "metadata": {},
   "outputs": [
    {
     "name": "stdout",
     "output_type": "stream",
     "text": [
      "<class 'pandas.core.frame.DataFrame'>\n",
      "RangeIndex: 1056 entries, 0 to 1055\n",
      "Data columns (total 5 columns):\n",
      " #   Column           Non-Null Count  Dtype \n",
      "---  ------           --------------  ----- \n",
      " 0   doc_body         1042 non-null   object\n",
      " 1   doc_description  1053 non-null   object\n",
      " 2   doc_full_name    1056 non-null   object\n",
      " 3   doc_status       1056 non-null   object\n",
      " 4   article_id       1056 non-null   int64 \n",
      "dtypes: int64(1), object(4)\n",
      "memory usage: 41.4+ KB\n"
     ]
    }
   ],
   "source": [
    "df_content.info()"
   ]
  },
  {
   "cell_type": "code",
   "execution_count": 23,
   "metadata": {},
   "outputs": [
    {
     "name": "stdout",
     "output_type": "stream",
     "text": [
      "Unique values in column 'doc_body' : 1036\n",
      "Unique values in column 'doc_description' : 1022\n",
      "Unique values in column 'doc_full_name' : 1051\n",
      "Unique values in column 'doc_status' : 1\n",
      "Unique values in column 'article_id' : 1051\n"
     ]
    }
   ],
   "source": [
    "for col in df_content:\n",
    "    print(\"Unique values in column '{}' : {}\".format(col, df_content[col].nunique()))"
   ]
  },
  {
   "cell_type": "code",
   "execution_count": 24,
   "metadata": {},
   "outputs": [],
   "source": [
    "# Consider whether to drop 'doc_status' because all data points to the value 'Live' and thus provides no further information.\n",
    "df_content = df_content.drop('doc_status', axis=1)"
   ]
  },
  {
   "cell_type": "markdown",
   "metadata": {},
   "source": [
    "#### Searching for missing data in 'df_content'"
   ]
  },
  {
   "cell_type": "code",
   "execution_count": 25,
   "metadata": {},
   "outputs": [
    {
     "name": "stdout",
     "output_type": "stream",
     "text": [
      "17 entries in df_content have missing information.\n"
     ]
    }
   ],
   "source": [
    "n_nans_df_content = len(df_content[df_content.isna().any(1)])\n",
    "print(\"{} entries in df_content have missing information.\".format(n_nans_df_content))"
   ]
  },
  {
   "cell_type": "code",
   "execution_count": 26,
   "metadata": {
    "scrolled": true
   },
   "outputs": [
    {
     "data": {
      "text/html": [
       "<div>\n",
       "<style scoped>\n",
       "    .dataframe tbody tr th:only-of-type {\n",
       "        vertical-align: middle;\n",
       "    }\n",
       "\n",
       "    .dataframe tbody tr th {\n",
       "        vertical-align: top;\n",
       "    }\n",
       "\n",
       "    .dataframe thead th {\n",
       "        text-align: right;\n",
       "    }\n",
       "</style>\n",
       "<table border=\"1\" class=\"dataframe\">\n",
       "  <thead>\n",
       "    <tr style=\"text-align: right;\">\n",
       "      <th></th>\n",
       "      <th>doc_body</th>\n",
       "      <th>doc_description</th>\n",
       "      <th>doc_full_name</th>\n",
       "      <th>article_id</th>\n",
       "    </tr>\n",
       "  </thead>\n",
       "  <tbody>\n",
       "    <tr>\n",
       "      <th>206</th>\n",
       "      <td>NaN</td>\n",
       "      <td>Watch how to convert XML data to CSV format to...</td>\n",
       "      <td>Load XML data into dashDB</td>\n",
       "      <td>206</td>\n",
       "    </tr>\n",
       "    <tr>\n",
       "      <th>276</th>\n",
       "      <td>NaN</td>\n",
       "      <td>Love to work in Microsoft Excel? Watch how to ...</td>\n",
       "      <td>Integrate dashDB with Excel</td>\n",
       "      <td>276</td>\n",
       "    </tr>\n",
       "    <tr>\n",
       "      <th>354</th>\n",
       "      <td>The search index lets you create flexible quer...</td>\n",
       "      <td>NaN</td>\n",
       "      <td>Build the search index in Cloudant</td>\n",
       "      <td>354</td>\n",
       "    </tr>\n",
       "    <tr>\n",
       "      <th>484</th>\n",
       "      <td>NaN</td>\n",
       "      <td>See how to evaluate and convert your DDL and S...</td>\n",
       "      <td>Convert IBM Puredata for Analytics to dashDB</td>\n",
       "      <td>483</td>\n",
       "    </tr>\n",
       "    <tr>\n",
       "      <th>508</th>\n",
       "      <td>NaN</td>\n",
       "      <td>Watch how to generate SQL-based reports for Cl...</td>\n",
       "      <td>Use dashDB with IBM Embeddable Reporting Service</td>\n",
       "      <td>507</td>\n",
       "    </tr>\n",
       "    <tr>\n",
       "      <th>540</th>\n",
       "      <td>NaN</td>\n",
       "      <td>Need to move some data to the cloud for wareho...</td>\n",
       "      <td>Convert data from Oracle to dashDB</td>\n",
       "      <td>539</td>\n",
       "    </tr>\n",
       "    <tr>\n",
       "      <th>638</th>\n",
       "      <td>NaN</td>\n",
       "      <td>See how to create a new dashDB instance and po...</td>\n",
       "      <td>Load JSON from Cloudant database into dashDB</td>\n",
       "      <td>637</td>\n",
       "    </tr>\n",
       "    <tr>\n",
       "      <th>667</th>\n",
       "      <td>NaN</td>\n",
       "      <td>See how to connect dashDB, as a source and tar...</td>\n",
       "      <td>Integrate dashDB and Informatica Cloud</td>\n",
       "      <td>666</td>\n",
       "    </tr>\n",
       "    <tr>\n",
       "      <th>706</th>\n",
       "      <td>NaN</td>\n",
       "      <td>Aginity Workbench is a free application known ...</td>\n",
       "      <td>Use Aginity Workbench for IBM dashDB</td>\n",
       "      <td>704</td>\n",
       "    </tr>\n",
       "    <tr>\n",
       "      <th>768</th>\n",
       "      <td>Compose The Compose logo Articles Sign in Free...</td>\n",
       "      <td>NaN</td>\n",
       "      <td>Announcing the Data Browser for JanusGraph</td>\n",
       "      <td>765</td>\n",
       "    </tr>\n",
       "    <tr>\n",
       "      <th>842</th>\n",
       "      <td>NaN</td>\n",
       "      <td>Learn how to configure a dashDB connection in ...</td>\n",
       "      <td>Leverage dashDB in Cognos Business Intelligence</td>\n",
       "      <td>839</td>\n",
       "    </tr>\n",
       "    <tr>\n",
       "      <th>876</th>\n",
       "      <td>NaN</td>\n",
       "      <td>See how to populate data into a table in your ...</td>\n",
       "      <td>Load data from the desktop into dashDB</td>\n",
       "      <td>873</td>\n",
       "    </tr>\n",
       "    <tr>\n",
       "      <th>889</th>\n",
       "      <td>NaN</td>\n",
       "      <td>Watch how to apply association rules using R t...</td>\n",
       "      <td>Perform market basket analysis using dashDB and R</td>\n",
       "      <td>886</td>\n",
       "    </tr>\n",
       "    <tr>\n",
       "      <th>919</th>\n",
       "      <td>Cloudant Query is a powerful declarative JSON ...</td>\n",
       "      <td>NaN</td>\n",
       "      <td>Use the new Cloudant query</td>\n",
       "      <td>916</td>\n",
       "    </tr>\n",
       "    <tr>\n",
       "      <th>947</th>\n",
       "      <td>NaN</td>\n",
       "      <td>Watch how to extract and export dashDB data to...</td>\n",
       "      <td>Extract and export dashDB data to a CSV file</td>\n",
       "      <td>944</td>\n",
       "    </tr>\n",
       "    <tr>\n",
       "      <th>1037</th>\n",
       "      <td>NaN</td>\n",
       "      <td>See how quick and easy it is to set up a dashD...</td>\n",
       "      <td>Get started with dashDB on Bluemix</td>\n",
       "      <td>1032</td>\n",
       "    </tr>\n",
       "    <tr>\n",
       "      <th>1054</th>\n",
       "      <td>NaN</td>\n",
       "      <td>Learn how to use IBM dashDB as data store for ...</td>\n",
       "      <td>Use dashDB with Spark</td>\n",
       "      <td>1049</td>\n",
       "    </tr>\n",
       "  </tbody>\n",
       "</table>\n",
       "</div>"
      ],
      "text/plain": [
       "                                               doc_body  \\\n",
       "206                                                 NaN   \n",
       "276                                                 NaN   \n",
       "354   The search index lets you create flexible quer...   \n",
       "484                                                 NaN   \n",
       "508                                                 NaN   \n",
       "540                                                 NaN   \n",
       "638                                                 NaN   \n",
       "667                                                 NaN   \n",
       "706                                                 NaN   \n",
       "768   Compose The Compose logo Articles Sign in Free...   \n",
       "842                                                 NaN   \n",
       "876                                                 NaN   \n",
       "889                                                 NaN   \n",
       "919   Cloudant Query is a powerful declarative JSON ...   \n",
       "947                                                 NaN   \n",
       "1037                                                NaN   \n",
       "1054                                                NaN   \n",
       "\n",
       "                                        doc_description  \\\n",
       "206   Watch how to convert XML data to CSV format to...   \n",
       "276   Love to work in Microsoft Excel? Watch how to ...   \n",
       "354                                                 NaN   \n",
       "484   See how to evaluate and convert your DDL and S...   \n",
       "508   Watch how to generate SQL-based reports for Cl...   \n",
       "540   Need to move some data to the cloud for wareho...   \n",
       "638   See how to create a new dashDB instance and po...   \n",
       "667   See how to connect dashDB, as a source and tar...   \n",
       "706   Aginity Workbench is a free application known ...   \n",
       "768                                                 NaN   \n",
       "842   Learn how to configure a dashDB connection in ...   \n",
       "876   See how to populate data into a table in your ...   \n",
       "889   Watch how to apply association rules using R t...   \n",
       "919                                                 NaN   \n",
       "947   Watch how to extract and export dashDB data to...   \n",
       "1037  See how quick and easy it is to set up a dashD...   \n",
       "1054  Learn how to use IBM dashDB as data store for ...   \n",
       "\n",
       "                                          doc_full_name  article_id  \n",
       "206                           Load XML data into dashDB         206  \n",
       "276                         Integrate dashDB with Excel         276  \n",
       "354                  Build the search index in Cloudant         354  \n",
       "484        Convert IBM Puredata for Analytics to dashDB         483  \n",
       "508    Use dashDB with IBM Embeddable Reporting Service         507  \n",
       "540                  Convert data from Oracle to dashDB         539  \n",
       "638        Load JSON from Cloudant database into dashDB         637  \n",
       "667              Integrate dashDB and Informatica Cloud         666  \n",
       "706                Use Aginity Workbench for IBM dashDB         704  \n",
       "768          Announcing the Data Browser for JanusGraph         765  \n",
       "842     Leverage dashDB in Cognos Business Intelligence         839  \n",
       "876              Load data from the desktop into dashDB         873  \n",
       "889   Perform market basket analysis using dashDB and R         886  \n",
       "919                          Use the new Cloudant query         916  \n",
       "947        Extract and export dashDB data to a CSV file         944  \n",
       "1037                 Get started with dashDB on Bluemix        1032  \n",
       "1054                              Use dashDB with Spark        1049  "
      ]
     },
     "execution_count": 26,
     "metadata": {},
     "output_type": "execute_result"
    }
   ],
   "source": [
    "df_content[df_content.isna().any(1)]"
   ]
  },
  {
   "cell_type": "markdown",
   "metadata": {},
   "source": [
    "#### Understanding column: 'article_id'"
   ]
  },
  {
   "cell_type": "markdown",
   "metadata": {},
   "source": [
    "**Task**: Find and explore duplicate articles."
   ]
  },
  {
   "cell_type": "code",
   "execution_count": 27,
   "metadata": {
    "scrolled": true
   },
   "outputs": [
    {
     "name": "stdout",
     "output_type": "stream",
     "text": [
      "Number of all duplicated entries for certain article_ids: 10\n"
     ]
    },
    {
     "data": {
      "text/html": [
       "<div>\n",
       "<style scoped>\n",
       "    .dataframe tbody tr th:only-of-type {\n",
       "        vertical-align: middle;\n",
       "    }\n",
       "\n",
       "    .dataframe tbody tr th {\n",
       "        vertical-align: top;\n",
       "    }\n",
       "\n",
       "    .dataframe thead th {\n",
       "        text-align: right;\n",
       "    }\n",
       "</style>\n",
       "<table border=\"1\" class=\"dataframe\">\n",
       "  <thead>\n",
       "    <tr style=\"text-align: right;\">\n",
       "      <th></th>\n",
       "      <th>doc_body</th>\n",
       "      <th>doc_description</th>\n",
       "      <th>doc_full_name</th>\n",
       "      <th>article_id</th>\n",
       "    </tr>\n",
       "  </thead>\n",
       "  <tbody>\n",
       "    <tr>\n",
       "      <th>50</th>\n",
       "      <td>Follow Sign in / Sign up Home About Insight Da...</td>\n",
       "      <td>Community Detection at Scale</td>\n",
       "      <td>Graph-based machine learning</td>\n",
       "      <td>50</td>\n",
       "    </tr>\n",
       "    <tr>\n",
       "      <th>365</th>\n",
       "      <td>Follow Sign in / Sign up Home About Insight Da...</td>\n",
       "      <td>During the seven-week Insight Data Engineering...</td>\n",
       "      <td>Graph-based machine learning</td>\n",
       "      <td>50</td>\n",
       "    </tr>\n",
       "    <tr>\n",
       "      <th>221</th>\n",
       "      <td>* United States\\r\\n\\r\\nIBM® * Site map\\r\\n\\r\\n...</td>\n",
       "      <td>When used to make sense of huge amounts of con...</td>\n",
       "      <td>How smart catalogs can turn the big data flood...</td>\n",
       "      <td>221</td>\n",
       "    </tr>\n",
       "    <tr>\n",
       "      <th>692</th>\n",
       "      <td>Homepage Follow Sign in / Sign up Homepage * H...</td>\n",
       "      <td>One of the earliest documented catalogs was co...</td>\n",
       "      <td>How smart catalogs can turn the big data flood...</td>\n",
       "      <td>221</td>\n",
       "    </tr>\n",
       "    <tr>\n",
       "      <th>232</th>\n",
       "      <td>Homepage Follow Sign in Get started Homepage *...</td>\n",
       "      <td>If you are like most data scientists, you are ...</td>\n",
       "      <td>Self-service data preparation with IBM Data Re...</td>\n",
       "      <td>232</td>\n",
       "    </tr>\n",
       "    <tr>\n",
       "      <th>971</th>\n",
       "      <td>Homepage Follow Sign in Get started * Home\\r\\n...</td>\n",
       "      <td>If you are like most data scientists, you are ...</td>\n",
       "      <td>Self-service data preparation with IBM Data Re...</td>\n",
       "      <td>232</td>\n",
       "    </tr>\n",
       "    <tr>\n",
       "      <th>399</th>\n",
       "      <td>Homepage Follow Sign in Get started * Home\\r\\n...</td>\n",
       "      <td>Today’s world of data science leverages data f...</td>\n",
       "      <td>Using Apache Spark as a parallel processing fr...</td>\n",
       "      <td>398</td>\n",
       "    </tr>\n",
       "    <tr>\n",
       "      <th>761</th>\n",
       "      <td>Homepage Follow Sign in Get started Homepage *...</td>\n",
       "      <td>Today’s world of data science leverages data f...</td>\n",
       "      <td>Using Apache Spark as a parallel processing fr...</td>\n",
       "      <td>398</td>\n",
       "    </tr>\n",
       "    <tr>\n",
       "      <th>578</th>\n",
       "      <td>This video shows you how to construct queries ...</td>\n",
       "      <td>This video shows you how to construct queries ...</td>\n",
       "      <td>Use the Primary Index</td>\n",
       "      <td>577</td>\n",
       "    </tr>\n",
       "    <tr>\n",
       "      <th>970</th>\n",
       "      <td>This video shows you how to construct queries ...</td>\n",
       "      <td>This video shows you how to construct queries ...</td>\n",
       "      <td>Use the Primary Index</td>\n",
       "      <td>577</td>\n",
       "    </tr>\n",
       "  </tbody>\n",
       "</table>\n",
       "</div>"
      ],
      "text/plain": [
       "                                              doc_body  \\\n",
       "50   Follow Sign in / Sign up Home About Insight Da...   \n",
       "365  Follow Sign in / Sign up Home About Insight Da...   \n",
       "221  * United States\\r\\n\\r\\nIBM® * Site map\\r\\n\\r\\n...   \n",
       "692  Homepage Follow Sign in / Sign up Homepage * H...   \n",
       "232  Homepage Follow Sign in Get started Homepage *...   \n",
       "971  Homepage Follow Sign in Get started * Home\\r\\n...   \n",
       "399  Homepage Follow Sign in Get started * Home\\r\\n...   \n",
       "761  Homepage Follow Sign in Get started Homepage *...   \n",
       "578  This video shows you how to construct queries ...   \n",
       "970  This video shows you how to construct queries ...   \n",
       "\n",
       "                                       doc_description  \\\n",
       "50                        Community Detection at Scale   \n",
       "365  During the seven-week Insight Data Engineering...   \n",
       "221  When used to make sense of huge amounts of con...   \n",
       "692  One of the earliest documented catalogs was co...   \n",
       "232  If you are like most data scientists, you are ...   \n",
       "971  If you are like most data scientists, you are ...   \n",
       "399  Today’s world of data science leverages data f...   \n",
       "761  Today’s world of data science leverages data f...   \n",
       "578  This video shows you how to construct queries ...   \n",
       "970  This video shows you how to construct queries ...   \n",
       "\n",
       "                                         doc_full_name  article_id  \n",
       "50                        Graph-based machine learning          50  \n",
       "365                       Graph-based machine learning          50  \n",
       "221  How smart catalogs can turn the big data flood...         221  \n",
       "692  How smart catalogs can turn the big data flood...         221  \n",
       "232  Self-service data preparation with IBM Data Re...         232  \n",
       "971  Self-service data preparation with IBM Data Re...         232  \n",
       "399  Using Apache Spark as a parallel processing fr...         398  \n",
       "761  Using Apache Spark as a parallel processing fr...         398  \n",
       "578                              Use the Primary Index         577  \n",
       "970                              Use the Primary Index         577  "
      ]
     },
     "execution_count": 27,
     "metadata": {},
     "output_type": "execute_result"
    }
   ],
   "source": [
    "# Show duplicated entries for article_id.\n",
    "article_dups = df_content[df_content.article_id.duplicated(keep=False)].sort_values('article_id')\n",
    "print(\"Number of all duplicated entries for certain article_ids: {}\".format(len(article_dups)))\n",
    "article_dups.head(len(article_dups))"
   ]
  },
  {
   "cell_type": "markdown",
   "metadata": {},
   "source": [
    "**Task**: Remove any rows that have the same article_id - only keep the first."
   ]
  },
  {
   "cell_type": "code",
   "execution_count": 28,
   "metadata": {},
   "outputs": [
    {
     "name": "stdout",
     "output_type": "stream",
     "text": [
      "Number of articles in df_content: 714\n"
     ]
    }
   ],
   "source": [
    "df_content.drop_duplicates(subset='article_id', inplace=True)\n",
    "article_data_df_content = df_content.groupby(['article_id']).count()\n",
    "num_articles_interacted_df_content = article_data_df_content.shape[0]\n",
    "print(\"Number of articles in df_content: {}\".format(num_articles_interacted))"
   ]
  },
  {
   "cell_type": "markdown",
   "metadata": {},
   "source": [
    "#### Comparing 'df' with 'df_content'"
   ]
  },
  {
   "cell_type": "code",
   "execution_count": 29,
   "metadata": {},
   "outputs": [
    {
     "name": "stdout",
     "output_type": "stream",
     "text": [
      "False\n",
      "False\n",
      "There are 277 articles in df which are not in df_content. At the same time, there are 614 articles in df_content which       are not in df.\n",
      "Thus, we have to add those articles from df which are not in df_content (n = 277), those articles from df_content which       are not in df (n = 614), and those articles which are in both data sets (n = 437) to find the number of unique articles on       the platform\n",
      "The count of unique articles in both data sets is: 1328\n",
      "As my solution is not accepted by the unit test provided by Udacity, I had to adjust the count of articles to the count       of articles in df_content: 1051\n"
     ]
    }
   ],
   "source": [
    "# Compare which article ids are not in df_content\n",
    "articles_in_df = list(article_data.index)\n",
    "articles_in_df_content = list(article_data_df_content.index)\n",
    "\n",
    "# Are all articles of df in df_content?\n",
    "print(all(elem in articles_in_df for elem in articles_in_df_content))\n",
    "\n",
    "# Are all articles of df_content in df?\n",
    "print(all(elem in articles_in_df_content for elem in articles_in_df))\n",
    "\n",
    "articles_in_df_but_missing_in_df_content = [art for art in articles_in_df if art not in articles_in_df_content]\n",
    "articles_in_df_content_but_missing_in_df = [art for art in articles_in_df_content if art not in articles_in_df]\n",
    "print(\"There are {} articles in df which are not in df_content. At the same time, there are {} articles in df_content which \\\n",
    "      are not in df.\".format(len(articles_in_df_but_missing_in_df_content),\n",
    "                             len(articles_in_df_content_but_missing_in_df)))\n",
    "\n",
    "articles_in_both_datasets = [art for art in articles_in_df if art in articles_in_df_content]\n",
    "print(\"Thus, we have to add those articles from df which are not in df_content (n = {}), those articles from df_content which \\\n",
    "      are not in df (n = {}), and those articles which are in both data sets (n = {}) to find the number of unique articles on \\\n",
    "      the platform\".format(len(articles_in_df_but_missing_in_df_content),\n",
    "                           len(articles_in_df_content_but_missing_in_df),\n",
    "                           len(articles_in_both_datasets)))\n",
    "\n",
    "n_unique_articles = sum([len(articles_in_df_but_missing_in_df_content),\n",
    "                         len(articles_in_df_content_but_missing_in_df),\n",
    "                         len(articles_in_both_datasets)])\n",
    "\n",
    "print(\"The count of unique articles in both data sets is: {}\".format(n_unique_articles))\n",
    "\n",
    "n_unique_articles_udacity = len(df_content)\n",
    "print(\"As my solution is not accepted by the unit test provided by Udacity, I had to adjust the count of articles to the count \\\n",
    "      of articles in df_content: {}\".format(n_unique_articles_udacity))"
   ]
  },
  {
   "cell_type": "markdown",
   "metadata": {},
   "source": [
    " "
   ]
  },
  {
   "cell_type": "markdown",
   "metadata": {},
   "source": [
    " "
   ]
  },
  {
   "cell_type": "markdown",
   "metadata": {},
   "source": [
    " "
   ]
  },
  {
   "cell_type": "markdown",
   "metadata": {},
   "source": [
    " "
   ]
  },
  {
   "cell_type": "markdown",
   "metadata": {},
   "source": [
    "`3.` **Task**: Use the cells below to find:\n",
    "\n",
    "**a.** The number of unique articles that have an interaction with a user.  \n",
    "**b.** The number of unique articles in the dataset (whether they have any interactions or not).<br>\n",
    "**c.** The number of unique users in the dataset. (excluding null values) <br>\n",
    "**d.** The number of user-article interactions in the dataset."
   ]
  },
  {
   "cell_type": "code",
   "execution_count": 30,
   "metadata": {},
   "outputs": [
    {
     "name": "stdout",
     "output_type": "stream",
     "text": [
      "714 articles have at least one interaction with a user.\n"
     ]
    }
   ],
   "source": [
    "# Identify the number of articles with minimum one rating.\n",
    "n_articles_one_interaction_min = len(article_data.drop('title', axis=1)[article_data['email'] >= 1])\n",
    "print(\"{} articles have at least one interaction with a user.\".format(n_articles_one_interaction_min))"
   ]
  },
  {
   "cell_type": "code",
   "execution_count": 31,
   "metadata": {},
   "outputs": [
    {
     "data": {
      "text/html": [
       "<div>\n",
       "<style scoped>\n",
       "    .dataframe tbody tr th:only-of-type {\n",
       "        vertical-align: middle;\n",
       "    }\n",
       "\n",
       "    .dataframe tbody tr th {\n",
       "        vertical-align: top;\n",
       "    }\n",
       "\n",
       "    .dataframe thead th {\n",
       "        text-align: right;\n",
       "    }\n",
       "</style>\n",
       "<table border=\"1\" class=\"dataframe\">\n",
       "  <thead>\n",
       "    <tr style=\"text-align: right;\">\n",
       "      <th></th>\n",
       "      <th>article_id</th>\n",
       "      <th>title</th>\n",
       "      <th>email</th>\n",
       "    </tr>\n",
       "  </thead>\n",
       "  <tbody>\n",
       "    <tr>\n",
       "      <th>25131</th>\n",
       "      <td>1016.0</td>\n",
       "      <td>why you should master r (even if it might even...</td>\n",
       "      <td>NaN</td>\n",
       "    </tr>\n",
       "    <tr>\n",
       "      <th>29758</th>\n",
       "      <td>1393.0</td>\n",
       "      <td>the nurse assignment problem</td>\n",
       "      <td>NaN</td>\n",
       "    </tr>\n",
       "    <tr>\n",
       "      <th>29759</th>\n",
       "      <td>20.0</td>\n",
       "      <td>working interactively with rstudio and noteboo...</td>\n",
       "      <td>NaN</td>\n",
       "    </tr>\n",
       "    <tr>\n",
       "      <th>29760</th>\n",
       "      <td>1174.0</td>\n",
       "      <td>breast cancer wisconsin (diagnostic) data set</td>\n",
       "      <td>NaN</td>\n",
       "    </tr>\n",
       "    <tr>\n",
       "      <th>29761</th>\n",
       "      <td>62.0</td>\n",
       "      <td>data visualization: the importance of excludin...</td>\n",
       "      <td>NaN</td>\n",
       "    </tr>\n",
       "    <tr>\n",
       "      <th>35264</th>\n",
       "      <td>224.0</td>\n",
       "      <td>using apply, sapply, lapply in r</td>\n",
       "      <td>NaN</td>\n",
       "    </tr>\n",
       "    <tr>\n",
       "      <th>35276</th>\n",
       "      <td>961.0</td>\n",
       "      <td>beyond parallelize and collect</td>\n",
       "      <td>NaN</td>\n",
       "    </tr>\n",
       "    <tr>\n",
       "      <th>35277</th>\n",
       "      <td>268.0</td>\n",
       "      <td>sector correlations shiny app</td>\n",
       "      <td>NaN</td>\n",
       "    </tr>\n",
       "    <tr>\n",
       "      <th>35278</th>\n",
       "      <td>268.0</td>\n",
       "      <td>sector correlations shiny app</td>\n",
       "      <td>NaN</td>\n",
       "    </tr>\n",
       "    <tr>\n",
       "      <th>35279</th>\n",
       "      <td>268.0</td>\n",
       "      <td>sector correlations shiny app</td>\n",
       "      <td>NaN</td>\n",
       "    </tr>\n",
       "    <tr>\n",
       "      <th>35280</th>\n",
       "      <td>268.0</td>\n",
       "      <td>sector correlations shiny app</td>\n",
       "      <td>NaN</td>\n",
       "    </tr>\n",
       "    <tr>\n",
       "      <th>35281</th>\n",
       "      <td>415.0</td>\n",
       "      <td>using machine learning to predict value of hom...</td>\n",
       "      <td>NaN</td>\n",
       "    </tr>\n",
       "    <tr>\n",
       "      <th>35282</th>\n",
       "      <td>846.0</td>\n",
       "      <td>pearson correlation aggregation on sparksql</td>\n",
       "      <td>NaN</td>\n",
       "    </tr>\n",
       "    <tr>\n",
       "      <th>35283</th>\n",
       "      <td>268.0</td>\n",
       "      <td>sector correlations shiny app</td>\n",
       "      <td>NaN</td>\n",
       "    </tr>\n",
       "    <tr>\n",
       "      <th>35284</th>\n",
       "      <td>162.0</td>\n",
       "      <td>an introduction to stock market data analysis ...</td>\n",
       "      <td>NaN</td>\n",
       "    </tr>\n",
       "    <tr>\n",
       "      <th>42749</th>\n",
       "      <td>647.0</td>\n",
       "      <td>getting started with apache mahout</td>\n",
       "      <td>NaN</td>\n",
       "    </tr>\n",
       "    <tr>\n",
       "      <th>42750</th>\n",
       "      <td>965.0</td>\n",
       "      <td>data visualization playbook: revisiting the ba...</td>\n",
       "      <td>NaN</td>\n",
       "    </tr>\n",
       "  </tbody>\n",
       "</table>\n",
       "</div>"
      ],
      "text/plain": [
       "       article_id                                              title email\n",
       "25131      1016.0  why you should master r (even if it might even...   NaN\n",
       "29758      1393.0                       the nurse assignment problem   NaN\n",
       "29759        20.0  working interactively with rstudio and noteboo...   NaN\n",
       "29760      1174.0      breast cancer wisconsin (diagnostic) data set   NaN\n",
       "29761        62.0  data visualization: the importance of excludin...   NaN\n",
       "35264       224.0                   using apply, sapply, lapply in r   NaN\n",
       "35276       961.0                     beyond parallelize and collect   NaN\n",
       "35277       268.0                      sector correlations shiny app   NaN\n",
       "35278       268.0                      sector correlations shiny app   NaN\n",
       "35279       268.0                      sector correlations shiny app   NaN\n",
       "35280       268.0                      sector correlations shiny app   NaN\n",
       "35281       415.0  using machine learning to predict value of hom...   NaN\n",
       "35282       846.0        pearson correlation aggregation on sparksql   NaN\n",
       "35283       268.0                      sector correlations shiny app   NaN\n",
       "35284       162.0  an introduction to stock market data analysis ...   NaN\n",
       "42749       647.0                 getting started with apache mahout   NaN\n",
       "42750       965.0  data visualization playbook: revisiting the ba...   NaN"
      ]
     },
     "execution_count": 31,
     "metadata": {},
     "output_type": "execute_result"
    }
   ],
   "source": [
    "df[df.isna().any(1)]"
   ]
  },
  {
   "cell_type": "code",
   "execution_count": 32,
   "metadata": {},
   "outputs": [
    {
     "data": {
      "text/html": [
       "<div>\n",
       "<style scoped>\n",
       "    .dataframe tbody tr th:only-of-type {\n",
       "        vertical-align: middle;\n",
       "    }\n",
       "\n",
       "    .dataframe tbody tr th {\n",
       "        vertical-align: top;\n",
       "    }\n",
       "\n",
       "    .dataframe thead th {\n",
       "        text-align: right;\n",
       "    }\n",
       "</style>\n",
       "<table border=\"1\" class=\"dataframe\">\n",
       "  <thead>\n",
       "    <tr style=\"text-align: right;\">\n",
       "      <th></th>\n",
       "      <th>article_id</th>\n",
       "      <th>title</th>\n",
       "      <th>user_id</th>\n",
       "    </tr>\n",
       "  </thead>\n",
       "  <tbody>\n",
       "    <tr>\n",
       "      <th>0</th>\n",
       "      <td>1430.0</td>\n",
       "      <td>using pixiedust for fast, flexible, and easier...</td>\n",
       "      <td>1</td>\n",
       "    </tr>\n",
       "    <tr>\n",
       "      <th>1</th>\n",
       "      <td>1314.0</td>\n",
       "      <td>healthcare python streaming application demo</td>\n",
       "      <td>2</td>\n",
       "    </tr>\n",
       "    <tr>\n",
       "      <th>2</th>\n",
       "      <td>1429.0</td>\n",
       "      <td>use deep learning for image classification</td>\n",
       "      <td>3</td>\n",
       "    </tr>\n",
       "    <tr>\n",
       "      <th>3</th>\n",
       "      <td>1338.0</td>\n",
       "      <td>ml optimization using cognitive assistant</td>\n",
       "      <td>4</td>\n",
       "    </tr>\n",
       "    <tr>\n",
       "      <th>4</th>\n",
       "      <td>1276.0</td>\n",
       "      <td>deploy your python model as a restful api</td>\n",
       "      <td>5</td>\n",
       "    </tr>\n",
       "  </tbody>\n",
       "</table>\n",
       "</div>"
      ],
      "text/plain": [
       "   article_id                                              title  user_id\n",
       "0      1430.0  using pixiedust for fast, flexible, and easier...        1\n",
       "1      1314.0       healthcare python streaming application demo        2\n",
       "2      1429.0         use deep learning for image classification        3\n",
       "3      1338.0          ml optimization using cognitive assistant        4\n",
       "4      1276.0          deploy your python model as a restful api        5"
      ]
     },
     "execution_count": 32,
     "metadata": {},
     "output_type": "execute_result"
    }
   ],
   "source": [
    "# Info: No need to change the code here - this will be helpful for later parts of the notebook\n",
    "# Info: Run this cell to map the user email to a user_id column and remove the email column\n",
    "\n",
    "def email_mapper():\n",
    "    \"\"\"Encodes the information on email with the respective user ID. Method by Udacity.\n",
    "\n",
    "    OUTPUT:\n",
    "    :return: dataframe: pandas.core.frame.DataFrame: Encoded version of the dataframe / df as defined\n",
    "                                                    at the top of the .ipynb notebook.\n",
    "    \"\"\"\n",
    "    \n",
    "    coded_dict = dict()\n",
    "    cter = 1\n",
    "    email_encoded = []\n",
    "    \n",
    "    for val in df['email']:\n",
    "        if val not in coded_dict:\n",
    "            coded_dict[val] = cter\n",
    "            cter+=1\n",
    "        \n",
    "        email_encoded.append(coded_dict[val])\n",
    "    return email_encoded\n",
    "\n",
    "email_encoded = email_mapper()\n",
    "del df['email']\n",
    "df['user_id'] = email_encoded\n",
    "\n",
    "# Show header\n",
    "df.head()"
   ]
  },
  {
   "cell_type": "code",
   "execution_count": 33,
   "metadata": {},
   "outputs": [
    {
     "data": {
      "text/html": [
       "<div>\n",
       "<style scoped>\n",
       "    .dataframe tbody tr th:only-of-type {\n",
       "        vertical-align: middle;\n",
       "    }\n",
       "\n",
       "    .dataframe tbody tr th {\n",
       "        vertical-align: top;\n",
       "    }\n",
       "\n",
       "    .dataframe thead th {\n",
       "        text-align: right;\n",
       "    }\n",
       "</style>\n",
       "<table border=\"1\" class=\"dataframe\">\n",
       "  <thead>\n",
       "    <tr style=\"text-align: right;\">\n",
       "      <th></th>\n",
       "      <th>article_id</th>\n",
       "      <th>title</th>\n",
       "      <th>user_id</th>\n",
       "    </tr>\n",
       "  </thead>\n",
       "  <tbody>\n",
       "  </tbody>\n",
       "</table>\n",
       "</div>"
      ],
      "text/plain": [
       "Empty DataFrame\n",
       "Columns: [article_id, title, user_id]\n",
       "Index: []"
      ]
     },
     "execution_count": 33,
     "metadata": {},
     "output_type": "execute_result"
    }
   ],
   "source": [
    "df[df.isna().any(1)]"
   ]
  },
  {
   "cell_type": "code",
   "execution_count": 34,
   "metadata": {},
   "outputs": [
    {
     "name": "stdout",
     "output_type": "stream",
     "text": [
      "In total, there are 45993 interactions of users with articles.\n"
     ]
    }
   ],
   "source": [
    "# Find total number of user - article interactions.\n",
    "n_total_interactions = df.groupby('user_id').count()['article_id'].sum()\n",
    "print(\"In total, there are {} interactions of users with articles.\".format(n_total_interactions))"
   ]
  },
  {
   "cell_type": "code",
   "execution_count": 35,
   "metadata": {},
   "outputs": [],
   "source": [
    "# The number of unique articles that have at least one interaction.\n",
    "unique_articles = n_articles_one_interaction_min # result: 714\n",
    "\n",
    "# The number of unique articles on the IBM platform.\n",
    "total_articles = n_unique_articles_udacity # result: 1051\n",
    "\n",
    "# The number of unique users.\n",
    "unique_users = num_email_ids # result: 5148\n",
    "\n",
    "# The number of user-article interactions.\n",
    "user_article_interactions = n_total_interactions # result: 45993"
   ]
  },
  {
   "cell_type": "markdown",
   "metadata": {},
   "source": [
    " "
   ]
  },
  {
   "cell_type": "markdown",
   "metadata": {},
   "source": [
    " "
   ]
  },
  {
   "cell_type": "markdown",
   "metadata": {},
   "source": [
    " "
   ]
  },
  {
   "cell_type": "markdown",
   "metadata": {},
   "source": [
    " "
   ]
  },
  {
   "cell_type": "markdown",
   "metadata": {},
   "source": [
    "`4.` **Task**: Use the cells below to find the most viewed **article_id**, as well as how often it was viewed.  After talking to the company leaders, the `email_mapper` function was deemed a reasonable way to map users to ids.  There were a small number of null values, and it was found that all of these null values likely belonged to a single user (which is how they are stored using the function below)."
   ]
  },
  {
   "cell_type": "code",
   "execution_count": 36,
   "metadata": {},
   "outputs": [
    {
     "name": "stdout",
     "output_type": "stream",
     "text": [
      "The ID of the most viewed article is 1429.0\n",
      "The most viewed article was viewed 937 times\n"
     ]
    }
   ],
   "source": [
    "# The most viewed article in the dataset as a string with one value following the decimal.\n",
    "most_viewed_article_id = str(article_data.drop('title', axis=1).sort_values('email', ascending=False).iloc[0].name)\n",
    "print(\"The ID of the most viewed article is {}\".format(most_viewed_article_id))\n",
    "\n",
    "# The most viewed article in the dataset was viewed how many times?\n",
    "max_views = article_data.drop('title', axis=1).sort_values('email', ascending=False).iloc[0].values[0]\n",
    "print(\"The most viewed article was viewed {} times\".format(max_views))"
   ]
  },
  {
   "cell_type": "code",
   "execution_count": 37,
   "metadata": {},
   "outputs": [
    {
     "name": "stdout",
     "output_type": "stream",
     "text": [
      "It looks like you have everything right here! Nice job!\n"
     ]
    }
   ],
   "source": [
    "# Info: If you stored all your results in the variable names above, \n",
    "# you shouldn't need to change anything in this cell.\n",
    "\n",
    "sol_1_dict = {\n",
    "    '`50% of individuals have _____ or fewer interactions.`': median_val,\n",
    "    '`The total number of user-article interactions in the dataset is ______.`': user_article_interactions,\n",
    "    '`The maximum number of user-article interactions by any 1 user is ______.`': max_views_by_user,\n",
    "    '`The most viewed article in the dataset was viewed _____ times.`': max_views,\n",
    "    '`The article_id of the most viewed article is ______.`': most_viewed_article_id,\n",
    "    '`The number of unique articles that have at least 1 rating ______.`': unique_articles,\n",
    "    '`The number of unique users in the dataset is ______`': unique_users,\n",
    "    '`The number of unique articles on the IBM platform`': total_articles\n",
    "}\n",
    "\n",
    "# Test your dictionary against the solution\n",
    "t.sol_1_test(sol_1_dict)"
   ]
  },
  {
   "cell_type": "markdown",
   "metadata": {},
   "source": [
    " "
   ]
  },
  {
   "cell_type": "markdown",
   "metadata": {},
   "source": [
    " "
   ]
  },
  {
   "cell_type": "markdown",
   "metadata": {},
   "source": [
    " "
   ]
  },
  {
   "cell_type": "markdown",
   "metadata": {},
   "source": [
    " "
   ]
  },
  {
   "cell_type": "markdown",
   "metadata": {},
   "source": [
    "### <a class=\"anchor\" id=\"Rank\">Part II: Rank-Based Recommendations</a>\n",
    "\n",
    "Unlike in the earlier lessons, we don't actually have ratings for whether a user liked an article or not.  We only know that a user has interacted with an article.  In these cases, the popularity of an article can really only be based on how often an article was interacted with.\n",
    "\n",
    "`1.` **Task**: Fill in the function below to return the **n** top articles ordered with most interactions as the top. Test your function using the tests below."
   ]
  },
  {
   "cell_type": "code",
   "execution_count": 38,
   "metadata": {},
   "outputs": [],
   "source": [
    "def get_top_articles(n, dataframe=df):\n",
    "    \"\"\"Identifies the top 'n' most read articles.\n",
    "    \n",
    "    INPUT:\n",
    "    :param n: int: The number of top articles to return.\n",
    "    :param dataframe: pandas.core.frame.DataFrame: Dataframe / df as defined at the top of the .ipynb notebook.\n",
    "    \n",
    "    OUTPUT:\n",
    "    :return: list of str: A list of the top 'n' article titles.\n",
    "    \"\"\"\n",
    "    \n",
    "    data = dataframe.copy()\n",
    "    article_data = data.groupby(['article_id']).count()\n",
    "    top_articles = list(article_data.drop('title', axis=1).sort_values('user_id', ascending=False).iloc[:n].index)\n",
    "    top_articles_titles = list(set(list(data[data.article_id.isin(top_articles)].title)))\n",
    "    \n",
    "    return top_articles_titles\n",
    "\n",
    "\n",
    "def get_top_article_ids(n, dataframe=df):\n",
    "    \"\"\"Identifies the IDs of the top 'n' most read articles.\n",
    "    \n",
    "    INPUT:\n",
    "    :param n: int: The number of top articles to return.\n",
    "    :param dataframe: pandas.core.frame.DataFrame: Dataframe / df as defined at the top of the .ipynb notebook.\n",
    "    \n",
    "    OUTPUT:\n",
    "    :return: list of str: A list of the top 'n' article titles' IDs.\n",
    "    \"\"\"\n",
    "    \n",
    "    data = dataframe.copy()\n",
    "    article_data = data.groupby(['article_id']).count()\n",
    "    top_articles_ids = list(article_data.drop('title', axis=1).sort_values('user_id', ascending=False).iloc[:n].index)\n",
    "    top_articles_ids_str = [str(article_id) for article_id in top_articles_ids]\n",
    "     \n",
    "    return top_articles_ids_str"
   ]
  },
  {
   "cell_type": "code",
   "execution_count": 39,
   "metadata": {},
   "outputs": [
    {
     "name": "stdout",
     "output_type": "stream",
     "text": [
      "['insights from new york car accident reports', 'predicting churn with the spss random tree algorithm', 'finding optimal locations of new store using decision optimization', 'use deep learning for image classification', 'gosales transactions for logistic regression model', 'use xgboost, scikit-learn & ibm watson machine learning apis', 'apache spark lab, part 1: basic concepts', 'analyze energy consumption in buildings', 'visualize car data with brunel', 'healthcare python streaming application demo']\n",
      "['1429.0', '1330.0', '1431.0', '1427.0', '1364.0', '1314.0', '1293.0', '1170.0', '1162.0', '1304.0']\n"
     ]
    }
   ],
   "source": [
    "print(get_top_articles(10))\n",
    "print(get_top_article_ids(10))"
   ]
  },
  {
   "cell_type": "code",
   "execution_count": 40,
   "metadata": {},
   "outputs": [
    {
     "name": "stdout",
     "output_type": "stream",
     "text": [
      "Your top_5 looks like the solution list! Nice job.\n",
      "Your top_10 looks like the solution list! Nice job.\n",
      "Your top_20 looks like the solution list! Nice job.\n"
     ]
    }
   ],
   "source": [
    "# Test your function by returning the top 5, 10, and 20 articles\n",
    "top_5 = get_top_articles(5)\n",
    "top_10 = get_top_articles(10)\n",
    "top_20 = get_top_articles(20)\n",
    "\n",
    "# Test each of your three lists from above\n",
    "t.sol_2_test(get_top_articles)"
   ]
  },
  {
   "cell_type": "markdown",
   "metadata": {},
   "source": [
    " "
   ]
  },
  {
   "cell_type": "markdown",
   "metadata": {},
   "source": [
    " "
   ]
  },
  {
   "cell_type": "markdown",
   "metadata": {},
   "source": [
    " "
   ]
  },
  {
   "cell_type": "markdown",
   "metadata": {},
   "source": [
    " "
   ]
  },
  {
   "cell_type": "markdown",
   "metadata": {},
   "source": [
    "### <a class=\"anchor\" id=\"User-User\">Part III: User-User Based Collaborative Filtering</a>\n",
    "\n",
    "\n",
    "`1.` **Task**: Use the function below to reformat the **df** dataframe to be shaped with users as the rows and articles as the columns.  \n",
    "\n",
    "* Each **user** should only appear in each **row** once.\n",
    "\n",
    "\n",
    "* Each **article** should only show up in one **column**.  \n",
    "\n",
    "\n",
    "* **If a user has interacted with an article, then place a 1 where the user-row meets for that article-column**.  It does not matter how many times a user has interacted with the article, all entries where a user has interacted with an article should be a 1.  \n",
    "\n",
    "\n",
    "* **If a user has not interacted with an item, then place a zero where the user-row meets for that article-column**. "
   ]
  },
  {
   "cell_type": "code",
   "execution_count": 41,
   "metadata": {},
   "outputs": [],
   "source": [
    "# Need to drop duplicated entries.\n",
    "df_nodups = df.drop_duplicates()"
   ]
  },
  {
   "cell_type": "markdown",
   "metadata": {},
   "source": [
    "**Task**: Create the user-article matrix with 1's and 0's."
   ]
  },
  {
   "cell_type": "code",
   "execution_count": 42,
   "metadata": {},
   "outputs": [],
   "source": [
    "def create_user_item_matrix(dataframe):\n",
    "    \"\"\"Returns a matrix with user ids as rows and article ids on the columns with 1 values where a user interacted with an\n",
    "       article and a 0 otherwise.\n",
    "    \n",
    "    INPUT:\n",
    "    :param dataframe: pandas.core.frame.DataFrame: Dataframe with 'article_id', 'title', 'user_id' (i.e., 'email') columns.\n",
    "    \n",
    "    OUTPUT:\n",
    "    :return: pandas.core.frame.DataFrame: User item matrix.\n",
    "    \"\"\"\n",
    "    \n",
    "    data = dataframe.copy()\n",
    "    articles_list = list(set(data['article_id']))\n",
    "    for article in articles_list:\n",
    "        data[article] = data['article_id'].apply(lambda x: 1 if x == article else 0)\n",
    "    user_item_matrix = data.groupby('user_id').sum().drop('article_id', axis=1)\n",
    "    \n",
    "    return user_item_matrix"
   ]
  },
  {
   "cell_type": "code",
   "execution_count": 43,
   "metadata": {},
   "outputs": [],
   "source": [
    "user_item = create_user_item_matrix(df_nodups)"
   ]
  },
  {
   "cell_type": "code",
   "execution_count": 44,
   "metadata": {},
   "outputs": [
    {
     "name": "stdout",
     "output_type": "stream",
     "text": [
      "You have passed our quick tests!  Please proceed!\n"
     ]
    }
   ],
   "source": [
    "## Tests: You should just need to run this cell.  Don't change the code.\n",
    "assert user_item.shape[0] == 5149, \"Oops!  The number of users in the user-article matrix doesn't look right.\"\n",
    "assert user_item.shape[1] == 714, \"Oops!  The number of articles in the user-article matrix doesn't look right.\"\n",
    "assert user_item.sum(axis=1)[1] == 36, \"Oops!  The number of articles seen by user 1 doesn't look right.\"\n",
    "print(\"You have passed our quick tests!  Please proceed!\")"
   ]
  },
  {
   "cell_type": "markdown",
   "metadata": {},
   "source": [
    " "
   ]
  },
  {
   "cell_type": "markdown",
   "metadata": {},
   "source": [
    " "
   ]
  },
  {
   "cell_type": "markdown",
   "metadata": {},
   "source": [
    " "
   ]
  },
  {
   "cell_type": "markdown",
   "metadata": {},
   "source": [
    " "
   ]
  },
  {
   "cell_type": "markdown",
   "metadata": {},
   "source": [
    "`2.` **Task**: Complete the function below which should take a user_id and provide an ordered list of the most similar users to that user (from most similar to least similar).  The returned result should not contain the provided user_id, as we know that each user is similar to him/herself. Because the results for each user here are binary, it (perhaps) makes sense to compute similarity as the dot product of two users."
   ]
  },
  {
   "cell_type": "code",
   "execution_count": 45,
   "metadata": {},
   "outputs": [],
   "source": [
    "def find_similar_users(user_id, dataframe_useritem=user_item):\n",
    "    \"\"\"Computes the similarity of every pair of users based on the dot product and returns an ordered list.\n",
    "    \n",
    "    INPUT:\n",
    "    :param user_id: int: A user ID.\n",
    "    :param dataframe_useritem: pandas.core.frame.DataFrame: Matrix of users by articles: 1's when a user has interacted with an\n",
    "    article, 0 otherwise.\n",
    "    \n",
    "    OUTPUT:\n",
    "    :return: list of int: An ordered list where the closest users (largest dot product users) are listed first.\n",
    "    \"\"\"\n",
    "    \n",
    "    user_item_temp = dataframe_useritem.copy()\n",
    "    \n",
    "    # Filter user_item for the data on the 'target' user, i.e. the user searched for with the user_id.\n",
    "    target_user = user_item_temp[user_item_temp.index == user_id]\n",
    "    \n",
    "    # Calculate the similarity of users with the dot product of the information on the 'target' user and on each other user in\n",
    "    # the database respectively.\n",
    "    user_item_temp['similarity'] = [int(np.dot(target_user, row)) for ind, row in user_item_temp.iterrows()]\n",
    "    most_similar_users = list(user_item_temp.sort_values('similarity', ascending=False).drop([user_id]).index)\n",
    "\n",
    "    return most_similar_users"
   ]
  },
  {
   "cell_type": "code",
   "execution_count": 46,
   "metadata": {},
   "outputs": [
    {
     "name": "stdout",
     "output_type": "stream",
     "text": [
      "The 10 most similar users to user 1 are: [3933, 23, 3782, 203, 4459, 3870, 131, 4201, 46, 5041]\n",
      "The 5 most similar users to user 3933 are: [1, 23, 3782, 203, 4459]\n",
      "The 3 most similar users to user 46 are: [4201, 3782, 23]\n"
     ]
    }
   ],
   "source": [
    "# Do a spot check of your function\n",
    "print(\"The 10 most similar users to user 1 are: {}\".format(find_similar_users(1)[:10]))\n",
    "print(\"The 5 most similar users to user 3933 are: {}\".format(find_similar_users(3933)[:5]))\n",
    "print(\"The 3 most similar users to user 46 are: {}\".format(find_similar_users(46)[:3]))"
   ]
  },
  {
   "cell_type": "markdown",
   "metadata": {},
   "source": [
    " "
   ]
  },
  {
   "cell_type": "markdown",
   "metadata": {},
   "source": [
    " "
   ]
  },
  {
   "cell_type": "markdown",
   "metadata": {},
   "source": [
    " "
   ]
  },
  {
   "cell_type": "markdown",
   "metadata": {},
   "source": [
    " "
   ]
  },
  {
   "cell_type": "markdown",
   "metadata": {},
   "source": [
    "`3.` **Task**: Now that you have a function that provides the most similar users to each user, you will want to use these users to find articles you can recommend. Complete the functions below to return the articles you would recommend to each user. "
   ]
  },
  {
   "cell_type": "code",
   "execution_count": 47,
   "metadata": {},
   "outputs": [],
   "source": [
    "def get_article_names(article_ids, dataframe=df_nodups):\n",
    "    \"\"\"Computes the similarity of every pair of users based on the dot product and returns an ordered list.\n",
    "    \n",
    "    INPUT:\n",
    "    :param article_ids: list of str: A list of article IDs.\n",
    "    :param dataframe: pandas.core.frame.DataFrame: Dataframe / df as defined at the top of the .ipynb notebook.\n",
    "    \n",
    "    OUTPUT:\n",
    "    :return: list of str: List of article names associated with the list of article IDs (as identified by the 'title' column).\n",
    "    \"\"\"\n",
    "    \n",
    "    data = dataframe.copy()\n",
    "    article_ids_float = [float(i) for i in article_ids]\n",
    "    data = data.groupby('article_id').last()\n",
    "    article_names = [data.loc[i]['title'] for i in article_ids_float]\n",
    "    \n",
    "    return article_names\n",
    "\n",
    "\n",
    "def get_user_articles(user_id, dataframe=df_nodups, dataframe_useritem=user_item):\n",
    "    \"\"\"Provides a list of the article_ids and article titles that have been seen by a user.\n",
    "    \n",
    "    INPUT:\n",
    "    :param user_id: int: A user ID.\n",
    "    :param dataframe: pandas.core.frame.DataFrame: Dataframe / df as defined at the top of the .ipynb notebook.\n",
    "    :param dataframe_useritem: pandas.core.frame.DataFrame: Matrix of users by articles: 1's when a user has interacted with an \n",
    "    article, 0 otherwise.\n",
    "    \n",
    "    OUTPUT:\n",
    "    :return article_ids_str: list of str: A list of the article IDs seen by the user.\n",
    "    :return article_names: list of str: A list of article names associated with the list of article IDs (as identified by the\n",
    "    'doc_full_name' column in df_content, or the 'title' column in df).\n",
    "    \"\"\"\n",
    "    \n",
    "    data = dataframe.copy()\n",
    "    # user_item_temp = dataframe_useritem.copy()\n",
    "    \n",
    "    # Filter for the IDs of the articles which a user has read.\n",
    "    article_ids = list(dataframe_useritem.loc[user_id][dataframe_useritem.loc[user_id] == 1].index.values)\n",
    "    article_ids_str = [str(i) for i in article_ids]\n",
    "    article_names = [''.join(data['title'][data['article_id'] == i].head(1).values) for i in article_ids]\n",
    "    \n",
    "    return article_ids_str, article_names\n",
    "\n",
    "\n",
    "def user_user_recs(user_id, m=10):\n",
    "    \"\"\"Loops through the users based on closeness to the input user_id. For each user - finds articles the user hasn't seen\n",
    "    before and provides them as recommendations. Does this until m recommendations are found.\n",
    "    \n",
    "    Notes:\n",
    "    Users who are the same closeness are chosen arbitrarily as the 'next' user.\n",
    "    \n",
    "    For the user where the number of recommended articles starts below m and ends exceeding m, the last items are chosen\n",
    "    arbitrarily.\n",
    "    \n",
    "    INPUT:\n",
    "    :param user_id: int: A user ID.\n",
    "    :param m: int: The number of recommendations for the user.\n",
    "    \n",
    "    OUTPUT:\n",
    "    :return: list of float: A list of IDs of articles which are recommended for the user.\n",
    "    \"\"\"\n",
    "    \n",
    "    peers = find_similar_users(user_id)\n",
    "    user_article_ids, user_article_titles = get_user_articles(user_id)\n",
    "    user_article_ids_float = [float(i) for i in user_article_ids]\n",
    "\n",
    "    recommendations = []\n",
    "    for i in peers:\n",
    "        peer_article_ids, peer_article_titles = get_user_articles(i)\n",
    "        peer_article_ids_int = [float(i) for i in peer_article_ids]\n",
    "        for art in peer_article_ids_int:\n",
    "            if art not in user_article_ids_float:\n",
    "                recommendations.append(art)\n",
    "                \n",
    "    recs = list(set(recommendations))[:m]\n",
    "    \n",
    "    return recs"
   ]
  },
  {
   "cell_type": "code",
   "execution_count": 48,
   "metadata": {},
   "outputs": [
    {
     "data": {
      "text/plain": [
       "['detect malfunctioning iot sensors with streaming analytics',\n",
       " 'this week in data science (april 18, 2017)',\n",
       " 'analyze ny restaurant data using spark in dsx',\n",
       " 'data science bowl 2017',\n",
       " '3992    using apache spark to predict attack vectors a...\\nName: title, dtype: object',\n",
       " 'timeseries data analysis of iot events by using jupyter notebook',\n",
       " 'got zip code data? prep it for analytics. – ibm watson data lab – medium',\n",
       " 'apache spark™ 2.0: extend structured streaming for spark ml',\n",
       " 'higher-order logistic regression for large datasets',\n",
       " 'the greatest public datasets for ai – startup grind']"
      ]
     },
     "execution_count": 48,
     "metadata": {},
     "output_type": "execute_result"
    }
   ],
   "source": [
    "# Check Results: Return 10 recommendations for user 1\n",
    "get_article_names(user_user_recs(1, 10))"
   ]
  },
  {
   "cell_type": "code",
   "execution_count": 49,
   "metadata": {},
   "outputs": [
    {
     "name": "stdout",
     "output_type": "stream",
     "text": [
      "If this is all you see, you passed all of our tests!  Nice job!\n"
     ]
    }
   ],
   "source": [
    "# Test your functions here - No need to change this code - just run this cell\n",
    "assert set(get_article_names(['1024.0', '1176.0', '1305.0', '1314.0', '1422.0', '1427.0'])) == set(['using deep learning to reconstruct high-resolution audio', 'build a python app on the streaming analytics service', 'gosales transactions for naive bayes model', 'healthcare python streaming application demo', 'use r dataframes & ibm watson natural language understanding', 'use xgboost, scikit-learn & ibm watson machine learning apis']), \"Oops! Your the get_article_names function doesn't work quite how we expect.\"\n",
    "assert set(get_article_names(['1320.0', '232.0', '844.0'])) == set(['housing (2015): united states demographic measures','self-service data preparation with ibm data refinery','use the cloudant-spark connector in python notebook']), \"Oops! Your the get_article_names function doesn't work quite how we expect.\"\n",
    "assert set(get_user_articles(20)[0]) == set(['1320.0', '232.0', '844.0'])\n",
    "assert set(get_user_articles(20)[1]) == set(['housing (2015): united states demographic measures', 'self-service data preparation with ibm data refinery','use the cloudant-spark connector in python notebook'])\n",
    "assert set(get_user_articles(2)[0]) == set(['1024.0', '1176.0', '1305.0', '1314.0', '1422.0', '1427.0'])\n",
    "assert set(get_user_articles(2)[1]) == set(['using deep learning to reconstruct high-resolution audio', 'build a python app on the streaming analytics service', 'gosales transactions for naive bayes model', 'healthcare python streaming application demo', 'use r dataframes & ibm watson natural language understanding', 'use xgboost, scikit-learn & ibm watson machine learning apis'])\n",
    "print(\"If this is all you see, you passed all of our tests!  Nice job!\")"
   ]
  },
  {
   "cell_type": "markdown",
   "metadata": {},
   "source": [
    " "
   ]
  },
  {
   "cell_type": "markdown",
   "metadata": {},
   "source": [
    " "
   ]
  },
  {
   "cell_type": "markdown",
   "metadata": {},
   "source": [
    " "
   ]
  },
  {
   "cell_type": "markdown",
   "metadata": {},
   "source": [
    " "
   ]
  },
  {
   "cell_type": "markdown",
   "metadata": {},
   "source": [
    "`4.` **Task**: Now we are going to improve the consistency of the **user_user_recs** function from above.  \n",
    "\n",
    "* Instead of arbitrarily choosing when we obtain users who are all the same closeness to a given user - choose the users that have the most total article interactions before choosing those with fewer article interactions.\n",
    "\n",
    "\n",
    "* Instead of arbitrarily choosing articles from the user where the number of recommended articles starts below m and ends exceeding m, choose articles with the articles with the most total interactions before choosing those with fewer total interactions. This ranking should be  what would be obtained from the **top_articles** function you wrote earlier."
   ]
  },
  {
   "cell_type": "code",
   "execution_count": 50,
   "metadata": {},
   "outputs": [],
   "source": [
    "def get_top_sorted_users(user_id, dataframe=df_nodups, dataframe_useritem=user_item):\n",
    "    \"\"\"Identifies similar users ('neighbors') to a given user_id ('target').\n",
    "    \n",
    "    Sorts the neighbors_df by the similarity and then by number of interactions where \n",
    "    highest of each is higher in the dataframe.\n",
    "    \n",
    "    INPUT:\n",
    "    :param user_id: int: A user ID.\n",
    "    :param dataframe: pandas.core.frame.DataFrame: Dataframe / df as defined at the top of the .ipynb notebook.\n",
    "    :param dataframe_useritem: pandas.core.frame.DataFrame: Matrix of users by articles: 1's when a user has interacted with an\n",
    "    article, 0 otherwise.\n",
    "    \n",
    "    OUTPUT:\n",
    "    :return: pandas.core.frame.DataFrame: A dataframe with columns: neighbor_id - is a neighbor user_id\n",
    "                                                                    similarity - measure of the similarity of each user to the\n",
    "                                                                    provided user_id\n",
    "                                                                    num_interactions - number of articles viewed by the user.\n",
    "    \"\"\"\n",
    "    \n",
    "    data = dataframe.copy()\n",
    "    user_item_temp = dataframe_useritem.copy()\n",
    "    \n",
    "    # Filter user_item for the data on the 'target' user, i.e. the user searched for with the user_id.\n",
    "    target_user = user_item_temp[user_item_temp.index == user_id]\n",
    "    \n",
    "    # Calculate the similarity of users with the dot product of the information on the 'target' user and on each other user in\n",
    "    # the database respectively.\n",
    "    user_item_temp['similarity'] = [int(np.dot(target_user, row)) for ind, row in user_item_temp.iterrows()]\n",
    "    \n",
    "    # Get the article IDs which a user interacted has interacted with.\n",
    "    art_ids = list(user_item_temp)[:-1]\n",
    "    \n",
    "    # Count the article interactions. If a user has read an article twice, this is counted as one. For the alternative of\n",
    "    # counting every interaction, i.e. reading twice same article and counting 1 + 1, see the out-commented code under\n",
    "    # 'ALTERNATIVE' below the next three lines of code.\n",
    "    user_item_temp['num_interactions'] = user_item_temp[art_ids].sum(axis=1)\n",
    "    \n",
    "    ## ALTERNATIVE. Important: Use 'df' as an argument for dataframe and not 'df_nodups' in this method. Same applies to the\n",
    "    # user_user_recs_part2() method as well.\n",
    "    # user_item_temp['num_interactions'] = data.groupby(['user_id']).count().drop(['title'], axis=1)\n",
    "    \n",
    "    # Remove redundant information and the information on the 'target' user itself.\n",
    "    user_item_temp.drop(art_ids, axis=1, inplace=True)\n",
    "    user_item_temp.drop([user_id], inplace=True)\n",
    "    \n",
    "    # Sort the columns on similarity and interactions.\n",
    "    neighbors_df = user_item_temp.sort_values('similarity', ascending=False)\n",
    "    neighbors_df = user_item_temp.sort_values('num_interactions', ascending=False)\n",
    "    \n",
    "    # Create and rename the user_id column.\n",
    "    neighbors_df.reset_index(inplace=True)\n",
    "    neighbors_df.rename(columns={'user_id':'neighbor_id'}, inplace=True)    \n",
    "    \n",
    "    return neighbors_df\n",
    "\n",
    "\n",
    "def user_user_recs_part2(user_id, m=10, dataframe=df_nodups):\n",
    "    \"\"\"Loops through the users based on closeness to the input user_id. For each similar user - finds most read articles the\n",
    "    user hasn't seen before and provides them as recommendations. Does this until m recommendations are found.\n",
    "    \n",
    "    Notes:\n",
    "    * Choose the users that have the most total article interactions before choosing those with fewer article interactions.\n",
    "\n",
    "    * Choose articles with the articles with the most total interactions before choosing those with fewer total interactions.\n",
    "    \n",
    "    INPUT:\n",
    "    :param user_id: int: A user ID.\n",
    "    :param m: int: The number of recommendations for the user.\n",
    "    :param dataframe: pandas.core.frame.DataFrame: Dataframe / df as defined at the top of the .ipynb notebook.\n",
    "\n",
    "    OUTPUT:\n",
    "    :return recommended_article_ids: list of float: A list of recommendations for the user by article ID.\n",
    "    :return recommended_article_names: list of str: A list of recommendations for the user by article title.\n",
    "    \"\"\"\n",
    "    \n",
    "    data = dataframe.copy()\n",
    "    \n",
    "    # Create a 'neighbor_df' as in the method above\n",
    "    uit = get_top_sorted_users(user_id)\n",
    "    print(\"####### SIMILARITY AND NUMBER OF INTERACTIONS OF OTHER USERS #######\")\n",
    "    print(uit.head(50))\n",
    "    \n",
    "    # Start search for similar users, but take only those with most interactions if there are other equally similar users.\n",
    "    index_uit_checked_num_interactions = []\n",
    "    checked_similarities = []\n",
    "    for index, value in uit['similarity'].items():\n",
    "        \n",
    "        # As long as the iterator has not passed the length of the user-item matrix and the similarity has not been checked\n",
    "        # already...\n",
    "        if (index+1 != (len(user_item)-1)) & (value != 0) & (value not in checked_similarities):\n",
    "            \n",
    "            # If there are other users which are equally similar to the 'target' user and which have not been checked thus\n",
    "            # far ...\n",
    "                if (value == uit['similarity'].loc[index+1]) & (int(index) not in index_uit_checked_num_interactions):\n",
    "                    \n",
    "                    # Filter the user-item matrix for such users.\n",
    "                    identical_similarities = uit[uit['similarity'].isin([value])]\n",
    "                    \n",
    "                    # If that filter has at least two similar users who are identically similar to the 'target' user ...\n",
    "                    if len(identical_similarities) > 1:\n",
    "                        \n",
    "                        # ... then take the index identifying the user with the most interactions and thus skip the other,\n",
    "                        # identically similar users.\n",
    "                        index_uit_checked_num_interactions.append(identical_similarities.sort_values('num_interactions', ascending=False).iloc[0].name)\n",
    "                        checked_similarities.append(value)\n",
    "                else:\n",
    "                    \n",
    "                    # If there are no identically similar users to the 'target' users, take the index of the users sorted by\n",
    "                    # similarity.\n",
    "                    index_uit_checked_num_interactions.append(int(index))\n",
    "                    checked_similarities.append(value)\n",
    "\n",
    "    # Gather the list of user IDs which are most similar to the 'target' user and, if equally similar, have most interactions\n",
    "    # with articles.\n",
    "    search_result = []\n",
    "    for i in index_uit_checked_num_interactions:\n",
    "        search_result.append(int(uit['neighbor_id'].loc[i]))\n",
    "    print(\"####### IDs OF OTHER USERS SIMILAR TO USER_ID {} FOUND: #######\".format(user_id))\n",
    "    print(search_result)\n",
    "    \n",
    "    # Find those articles read by the 'target' user.\n",
    "    user_article_ids, user_article_titles = get_user_articles(user_id)\n",
    "    user_article_ids_float = [float(i) for i in user_article_ids]\n",
    "    \n",
    "    # For comparison, also find the articles read by the similar users as.\n",
    "    peer_recommendations = []\n",
    "    for r in search_result:\n",
    "        peer_article_ids, peer_article_titles = get_user_articles(r)\n",
    "        peer_article_ids_float = [float(pid) for pid in peer_article_ids]\n",
    "        \n",
    "        # But leave out those articles from the similar users, if they have been read by the 'target' user already.\n",
    "        for art in peer_article_ids_float:\n",
    "            if art not in user_article_ids_float:\n",
    "                peer_recommendations.append(art)    \n",
    "    \n",
    "    # Get the IDs of the articles which are from users who are most similar ('peer') to the 'target' user (and who have the\n",
    "    # most interactions, if they had been equally similar).\n",
    "    peers_recommended_articles = list(set(peer_recommendations))[:m] \n",
    "    peers_recommended_articles_id = [float(ra) for ra in peers_recommended_articles]\n",
    "    \n",
    "    # Count the total interactions per article in a new dataframe.\n",
    "    article_data = data.groupby(['article_id']).count().rename(columns={'user_id':'total_interactions'})\n",
    "    article_data = article_data.drop(['title'], axis=1).sort_values('total_interactions', ascending=False)\n",
    "    \n",
    "    # Add a column for entries in the list of recommended article IDs from peers with a default 0 value.\n",
    "    article_data['peer_recommendations'] = [0 for entry in range(len(article_data))]\n",
    "\n",
    "    # Iterate over this column and copy the total interaction whenever the index matches one of the entries from the list of\n",
    "    # recommended article IDs from peers.\n",
    "    for index, value in article_data['total_interactions'].items():\n",
    "        if index in peers_recommended_articles_id:\n",
    "            article_data['peer_recommendations'].loc[index] = value\n",
    "        else:\n",
    "            article_data['peer_recommendations'].loc[index] = 0\n",
    "\n",
    "    # Sort this column in a descending order to get the IDs of articles with two characteristics:\n",
    "    # 1) articles which have been read by peers with the highest number of interactions per user,\n",
    "    # 2) articles with the most total interactions per article.\n",
    "    # \n",
    "    # In other words, we get the IDs of articles that have been read by similar users ('peers')\n",
    "    # who are very active on the platform (i.e., read a lot of articles) and the IDs of articles\n",
    "    # that are very prominent in general at the same time.\n",
    "    article_data = article_data.sort_values('peer_recommendations')\n",
    "\n",
    "    # Return the article IDs from the dataframe on interactions and peer recommandations per article.\n",
    "    recommended_article_ids = list(article_data.index.values)    \n",
    "    \n",
    "    # Return a list of the IDs of the articles to be recommended.\n",
    "    recommended_article_ids = recommended_article_ids[:m]\n",
    "    \n",
    "    # Return a list of the names of the articles to be recommended.\n",
    "    data = data.groupby(['article_id']).last()\n",
    "    recommended_article_names = [data.loc[rai]['title'] for rai in recommended_article_ids]\n",
    "    \n",
    "    return recommended_article_ids, recommended_article_names"
   ]
  },
  {
   "cell_type": "code",
   "execution_count": 51,
   "metadata": {},
   "outputs": [
    {
     "name": "stdout",
     "output_type": "stream",
     "text": [
      "####### SIMILARITY AND NUMBER OF INTERACTIONS OF OTHER USERS #######\n",
      "    neighbor_id  similarity  num_interactions\n",
      "0          3782           0               135\n",
      "1            23           0               135\n",
      "2            49           0               101\n",
      "3          3697           0               100\n",
      "4            98           1                97\n",
      "5          3764           1                97\n",
      "6           203           0                96\n",
      "7          4459           0                96\n",
      "8           131           1                75\n",
      "9          3870           1                75\n",
      "10          204           2                72\n",
      "11           60           0                72\n",
      "12         3540           0                72\n",
      "13         5138           2                71\n",
      "14          170           2                71\n",
      "15         3740           0                71\n",
      "16          912           0                71\n",
      "17         5140           0                71\n",
      "18           58           0                70\n",
      "19         3169           2                70\n",
      "20         2926           1                66\n",
      "21          619           1                66\n",
      "22          184           0                63\n",
      "23         4785           0                62\n",
      "24           21           0                61\n",
      "25         4892           0                61\n",
      "26          295           1                60\n",
      "27         3910           0                60\n",
      "28          242           0                59\n",
      "29         3596           0                59\n",
      "30           52           0                58\n",
      "31         3006           1                58\n",
      "32          290           0                58\n",
      "33         2975           0                58\n",
      "34         2982           0                58\n",
      "35          288           0                58\n",
      "36         4706           0                57\n",
      "37            8           0                57\n",
      "38          765           0                57\n",
      "39          591           1                56\n",
      "40         4277           1                56\n",
      "41         4755           0                55\n",
      "42          669           0                54\n",
      "43         3208           0                54\n",
      "44          322           0                53\n",
      "45         3500           1                52\n",
      "46         3072           0                52\n",
      "47           45           1                52\n",
      "48           40           2                52\n",
      "49         3622           0                52\n",
      "####### IDs OF OTHER USERS SIMILAR TO USER_ID 20 FOUND: #######\n",
      "[98, 204]\n",
      "The top 10 recommendations for user 20 are the following article ids:\n",
      "[1330.0, 48.0, 1359.0, 58.0, 1369.0, 1145.0, 1153.0, 399.0, 1149.0, 77.0]\n",
      "\n",
      "The top 10 recommendations for user 20 are the following article names:\n",
      "['insights from new york car accident reports', 'data science experience documentation', 'percentage of internet users by country', 'advancements in the spark community', 'ratio (% of population) at national poverty line by country', 'airbnb data for analytics: trentino listings', 'airbnb data for analytics: vienna calendar', 'predicting the 2016 us presidential election', 'airbnb data for analytics: vancouver reviews', 'apache spark @scale: a 60 tb+ production use case']\n"
     ]
    }
   ],
   "source": [
    "# Quick spot check - don't change this code - just use it to test your functions\n",
    "rec_ids, rec_names = user_user_recs_part2(20, 10)\n",
    "print(\"The top 10 recommendations for user 20 are the following article ids:\")\n",
    "print(rec_ids)\n",
    "print()\n",
    "print(\"The top 10 recommendations for user 20 are the following article names:\")\n",
    "print(rec_names)"
   ]
  },
  {
   "cell_type": "markdown",
   "metadata": {},
   "source": [
    " "
   ]
  },
  {
   "cell_type": "markdown",
   "metadata": {},
   "source": [
    " "
   ]
  },
  {
   "cell_type": "markdown",
   "metadata": {},
   "source": [
    " "
   ]
  },
  {
   "cell_type": "markdown",
   "metadata": {},
   "source": [
    " "
   ]
  },
  {
   "cell_type": "markdown",
   "metadata": {},
   "source": [
    "`5.` **Task**: Use your functions from above to correctly fill in the solutions to the dictionary below.  Then test your dictionary against the solution.  Provide the code you need to answer each following the comments below."
   ]
  },
  {
   "cell_type": "code",
   "execution_count": 52,
   "metadata": {},
   "outputs": [],
   "source": [
    "# Tests with a dictionary of results\n",
    "\n",
    "# Find the user that is most similar to user 1 \n",
    "user1_most_sim = find_similar_users(1)[0]\n",
    "\n",
    "# Find the 10th most similar user to user 131\n",
    "user131_10th_sim = find_similar_users(131)[10]"
   ]
  },
  {
   "cell_type": "code",
   "execution_count": 53,
   "metadata": {},
   "outputs": [
    {
     "name": "stdout",
     "output_type": "stream",
     "text": [
      "This all looks good!  Nice job!\n"
     ]
    }
   ],
   "source": [
    "## Dictionary Test Here\n",
    "sol_5_dict = {\n",
    "    'The user that is most similar to user 1.': user1_most_sim, \n",
    "    'The user that is the 10th most similar to user 131': user131_10th_sim,\n",
    "}\n",
    "\n",
    "t.sol_5_test(sol_5_dict)"
   ]
  },
  {
   "cell_type": "markdown",
   "metadata": {},
   "source": [
    " "
   ]
  },
  {
   "cell_type": "markdown",
   "metadata": {},
   "source": [
    " "
   ]
  },
  {
   "cell_type": "markdown",
   "metadata": {},
   "source": [
    " "
   ]
  },
  {
   "cell_type": "markdown",
   "metadata": {},
   "source": [
    " "
   ]
  },
  {
   "cell_type": "markdown",
   "metadata": {},
   "source": [
    "`6.` **Task**: If we were given a new user, which of the above functions would you be able to use to make recommendations?  Explain.  Can you think of a better way we might make recommendations?  Use the cell below to explain a better method for new users."
   ]
  },
  {
   "cell_type": "markdown",
   "metadata": {},
   "source": [
    "> **Response**: If a user is entirely new to our database, we could use the **get_top_articles()** or the **get_top_article_ids()** methods. They will provide a list of the top *n* articles to a new user. This **rank-based recommendation** does however not address any specific interests of a new user.\n",
    "\n",
    "> A better approach would be to ask a new user to specify what kind of article she / he is interested in. This specification could be done by offering the new user a filter for searching articles (e.g., search by topic or rating). Such a **knowledge-based recommendation** method would generate a more tailored recommendation to the new user than a generic approach of providing a list of top *n* articles alone.\n",
    "\n",
    "> Moreover, we could use the result of a knowledge-based recommendation to create another recommendation for the user based on the set of preferences of other, similar users who already exist on our database. This would be a blended approach of providing a both **knowledge- and collaborative filtering based recommendation**."
   ]
  },
  {
   "cell_type": "markdown",
   "metadata": {},
   "source": [
    " "
   ]
  },
  {
   "cell_type": "markdown",
   "metadata": {},
   "source": [
    " "
   ]
  },
  {
   "cell_type": "markdown",
   "metadata": {},
   "source": [
    " "
   ]
  },
  {
   "cell_type": "markdown",
   "metadata": {},
   "source": [
    " "
   ]
  },
  {
   "cell_type": "markdown",
   "metadata": {},
   "source": [
    "`7.` **Task**: Using your existing functions, provide the top 10 recommended articles you would provide for the a new user below.  You can test your function against our thoughts to make sure we are all on the same page with how we might make a recommendation."
   ]
  },
  {
   "cell_type": "code",
   "execution_count": 54,
   "metadata": {},
   "outputs": [],
   "source": [
    "new_user = '0.0'\n",
    "\n",
    "# What would your recommendations be for this new user '0.0'?  As a new user, they have no observed articles.\n",
    "# Provide a list of the top 10 article ids you would give to \n",
    "\n",
    "new_user_recs = get_top_article_ids(10)"
   ]
  },
  {
   "cell_type": "code",
   "execution_count": 55,
   "metadata": {},
   "outputs": [
    {
     "name": "stdout",
     "output_type": "stream",
     "text": [
      "That's right!  Nice job!\n"
     ]
    }
   ],
   "source": [
    "assert set(new_user_recs) == set(['1314.0','1429.0','1293.0','1427.0','1162.0','1364.0','1304.0','1170.0','1431.0','1330.0']), \"Oops!  It makes sense that in this case we would want to recommend the most popular articles, because we don't know anything about these users.\"\n",
    "\n",
    "print(\"That's right!  Nice job!\")"
   ]
  },
  {
   "cell_type": "markdown",
   "metadata": {},
   "source": [
    " "
   ]
  },
  {
   "cell_type": "markdown",
   "metadata": {},
   "source": [
    " "
   ]
  },
  {
   "cell_type": "markdown",
   "metadata": {},
   "source": [
    " "
   ]
  },
  {
   "cell_type": "markdown",
   "metadata": {},
   "source": [
    " "
   ]
  },
  {
   "cell_type": "markdown",
   "metadata": {},
   "source": [
    "### <a class=\"anchor\" id=\"Content-Recs\">Part IV: Content Based Recommendations (EXTRA - NOT REQUIRED)</a>\n",
    "\n",
    "Another method we might use to make recommendations is to perform a ranking of the highest ranked articles associated with some term.  You might consider content to be the **doc_body**, **doc_description**, or **doc_full_name**.  There isn't one way to create a content based recommendation, especially considering that each of these columns hold content related information.  \n",
    "\n",
    "`1.` Use the function body below to create a content based recommender.  Since there isn't one right answer for this recommendation tactic, no test functions are provided.  Feel free to change the function inputs if you decide you want to try a method that requires more input values.  The input values are currently set with one idea in mind that you may use to make content based recommendations.  One additional idea is that you might want to choose the most popular recommendations that meet your 'content criteria', but again, there is a lot of flexibility in how you might make these recommendations.\n",
    "\n",
    "### This part is NOT REQUIRED to pass this project.  However, you may choose to take this on as an extra way to show off your skills."
   ]
  },
  {
   "cell_type": "code",
   "execution_count": 56,
   "metadata": {},
   "outputs": [],
   "source": [
    "def make_content_recs():\n",
    "    '''\n",
    "    INPUT:\n",
    "    \n",
    "    OUTPUT:\n",
    "    \n",
    "    '''"
   ]
  },
  {
   "cell_type": "markdown",
   "metadata": {},
   "source": [
    "`2.` Now that you have put together your content-based recommendation system, use the cell below to write a summary explaining how your content based recommender works.  Do you see any possible improvements that could be made to your function?  Is there anything novel about your content based recommender?\n",
    "\n",
    "### This part is NOT REQUIRED to pass this project.  However, you may choose to take this on as an extra way to show off your skills."
   ]
  },
  {
   "cell_type": "markdown",
   "metadata": {},
   "source": [
    "**Write an explanation of your content based recommendation system here.**"
   ]
  },
  {
   "cell_type": "markdown",
   "metadata": {},
   "source": [
    "`3.` Use your content-recommendation system to make recommendations for the below scenarios based on the comments.  Again no tests are provided here, because there isn't one right answer that could be used to find these content based recommendations.\n",
    "\n",
    "### This part is NOT REQUIRED to pass this project.  However, you may choose to take this on as an extra way to show off your skills."
   ]
  },
  {
   "cell_type": "code",
   "execution_count": 57,
   "metadata": {},
   "outputs": [],
   "source": [
    "# make recommendations for a brand new user\n",
    "\n",
    "\n",
    "# make a recommendations for a user who only has interacted with article id '1427.0'\n",
    "\n"
   ]
  },
  {
   "cell_type": "markdown",
   "metadata": {},
   "source": [
    " "
   ]
  },
  {
   "cell_type": "markdown",
   "metadata": {},
   "source": [
    " "
   ]
  },
  {
   "cell_type": "markdown",
   "metadata": {},
   "source": [
    " "
   ]
  },
  {
   "cell_type": "markdown",
   "metadata": {},
   "source": [
    " "
   ]
  },
  {
   "cell_type": "markdown",
   "metadata": {},
   "source": [
    "### <a class=\"anchor\" id=\"Matrix-Fact\">Part V: Matrix Factorization</a>\n",
    "\n",
    "In this part of the notebook, you will build use matrix factorization to make article recommendations to the users on the IBM Watson Studio platform.\n",
    "\n",
    "`1.` You should have already created a **user_item** matrix above in **question 1** of **Part III** above.  This first question here will just require that you run the cells to get things set up for the rest of **Part V** of the notebook. "
   ]
  },
  {
   "cell_type": "code",
   "execution_count": 58,
   "metadata": {},
   "outputs": [],
   "source": [
    "# Load the matrix.\n",
    "user_item_matrix = pd.read_pickle('user_item_matrix.p')"
   ]
  },
  {
   "cell_type": "code",
   "execution_count": 59,
   "metadata": {
    "scrolled": true
   },
   "outputs": [
    {
     "data": {
      "text/html": [
       "<div>\n",
       "<style scoped>\n",
       "    .dataframe tbody tr th:only-of-type {\n",
       "        vertical-align: middle;\n",
       "    }\n",
       "\n",
       "    .dataframe tbody tr th {\n",
       "        vertical-align: top;\n",
       "    }\n",
       "\n",
       "    .dataframe thead th {\n",
       "        text-align: right;\n",
       "    }\n",
       "</style>\n",
       "<table border=\"1\" class=\"dataframe\">\n",
       "  <thead>\n",
       "    <tr style=\"text-align: right;\">\n",
       "      <th>article_id</th>\n",
       "      <th>0.0</th>\n",
       "      <th>100.0</th>\n",
       "      <th>1000.0</th>\n",
       "      <th>1004.0</th>\n",
       "      <th>1006.0</th>\n",
       "      <th>1008.0</th>\n",
       "      <th>101.0</th>\n",
       "      <th>1014.0</th>\n",
       "      <th>1015.0</th>\n",
       "      <th>1016.0</th>\n",
       "      <th>...</th>\n",
       "      <th>977.0</th>\n",
       "      <th>98.0</th>\n",
       "      <th>981.0</th>\n",
       "      <th>984.0</th>\n",
       "      <th>985.0</th>\n",
       "      <th>986.0</th>\n",
       "      <th>990.0</th>\n",
       "      <th>993.0</th>\n",
       "      <th>996.0</th>\n",
       "      <th>997.0</th>\n",
       "    </tr>\n",
       "    <tr>\n",
       "      <th>user_id</th>\n",
       "      <th></th>\n",
       "      <th></th>\n",
       "      <th></th>\n",
       "      <th></th>\n",
       "      <th></th>\n",
       "      <th></th>\n",
       "      <th></th>\n",
       "      <th></th>\n",
       "      <th></th>\n",
       "      <th></th>\n",
       "      <th></th>\n",
       "      <th></th>\n",
       "      <th></th>\n",
       "      <th></th>\n",
       "      <th></th>\n",
       "      <th></th>\n",
       "      <th></th>\n",
       "      <th></th>\n",
       "      <th></th>\n",
       "      <th></th>\n",
       "      <th></th>\n",
       "    </tr>\n",
       "  </thead>\n",
       "  <tbody>\n",
       "    <tr>\n",
       "      <th>1</th>\n",
       "      <td>0.0</td>\n",
       "      <td>0.0</td>\n",
       "      <td>0.0</td>\n",
       "      <td>0.0</td>\n",
       "      <td>0.0</td>\n",
       "      <td>0.0</td>\n",
       "      <td>0.0</td>\n",
       "      <td>0.0</td>\n",
       "      <td>0.0</td>\n",
       "      <td>0.0</td>\n",
       "      <td>...</td>\n",
       "      <td>0.0</td>\n",
       "      <td>0.0</td>\n",
       "      <td>1.0</td>\n",
       "      <td>0.0</td>\n",
       "      <td>0.0</td>\n",
       "      <td>0.0</td>\n",
       "      <td>0.0</td>\n",
       "      <td>0.0</td>\n",
       "      <td>0.0</td>\n",
       "      <td>0.0</td>\n",
       "    </tr>\n",
       "    <tr>\n",
       "      <th>2</th>\n",
       "      <td>0.0</td>\n",
       "      <td>0.0</td>\n",
       "      <td>0.0</td>\n",
       "      <td>0.0</td>\n",
       "      <td>0.0</td>\n",
       "      <td>0.0</td>\n",
       "      <td>0.0</td>\n",
       "      <td>0.0</td>\n",
       "      <td>0.0</td>\n",
       "      <td>0.0</td>\n",
       "      <td>...</td>\n",
       "      <td>0.0</td>\n",
       "      <td>0.0</td>\n",
       "      <td>0.0</td>\n",
       "      <td>0.0</td>\n",
       "      <td>0.0</td>\n",
       "      <td>0.0</td>\n",
       "      <td>0.0</td>\n",
       "      <td>0.0</td>\n",
       "      <td>0.0</td>\n",
       "      <td>0.0</td>\n",
       "    </tr>\n",
       "    <tr>\n",
       "      <th>3</th>\n",
       "      <td>0.0</td>\n",
       "      <td>0.0</td>\n",
       "      <td>0.0</td>\n",
       "      <td>0.0</td>\n",
       "      <td>0.0</td>\n",
       "      <td>0.0</td>\n",
       "      <td>0.0</td>\n",
       "      <td>0.0</td>\n",
       "      <td>0.0</td>\n",
       "      <td>0.0</td>\n",
       "      <td>...</td>\n",
       "      <td>1.0</td>\n",
       "      <td>0.0</td>\n",
       "      <td>0.0</td>\n",
       "      <td>0.0</td>\n",
       "      <td>0.0</td>\n",
       "      <td>0.0</td>\n",
       "      <td>0.0</td>\n",
       "      <td>0.0</td>\n",
       "      <td>0.0</td>\n",
       "      <td>0.0</td>\n",
       "    </tr>\n",
       "    <tr>\n",
       "      <th>4</th>\n",
       "      <td>0.0</td>\n",
       "      <td>0.0</td>\n",
       "      <td>0.0</td>\n",
       "      <td>0.0</td>\n",
       "      <td>0.0</td>\n",
       "      <td>0.0</td>\n",
       "      <td>0.0</td>\n",
       "      <td>0.0</td>\n",
       "      <td>0.0</td>\n",
       "      <td>0.0</td>\n",
       "      <td>...</td>\n",
       "      <td>0.0</td>\n",
       "      <td>0.0</td>\n",
       "      <td>0.0</td>\n",
       "      <td>0.0</td>\n",
       "      <td>0.0</td>\n",
       "      <td>0.0</td>\n",
       "      <td>0.0</td>\n",
       "      <td>0.0</td>\n",
       "      <td>0.0</td>\n",
       "      <td>0.0</td>\n",
       "    </tr>\n",
       "    <tr>\n",
       "      <th>5</th>\n",
       "      <td>0.0</td>\n",
       "      <td>0.0</td>\n",
       "      <td>0.0</td>\n",
       "      <td>0.0</td>\n",
       "      <td>0.0</td>\n",
       "      <td>0.0</td>\n",
       "      <td>0.0</td>\n",
       "      <td>0.0</td>\n",
       "      <td>0.0</td>\n",
       "      <td>0.0</td>\n",
       "      <td>...</td>\n",
       "      <td>0.0</td>\n",
       "      <td>0.0</td>\n",
       "      <td>0.0</td>\n",
       "      <td>0.0</td>\n",
       "      <td>0.0</td>\n",
       "      <td>0.0</td>\n",
       "      <td>0.0</td>\n",
       "      <td>0.0</td>\n",
       "      <td>0.0</td>\n",
       "      <td>0.0</td>\n",
       "    </tr>\n",
       "  </tbody>\n",
       "</table>\n",
       "<p>5 rows × 714 columns</p>\n",
       "</div>"
      ],
      "text/plain": [
       "article_id  0.0  100.0  1000.0  1004.0  1006.0  1008.0  101.0  1014.0  1015.0  \\\n",
       "user_id                                                                         \n",
       "1           0.0    0.0     0.0     0.0     0.0     0.0    0.0     0.0     0.0   \n",
       "2           0.0    0.0     0.0     0.0     0.0     0.0    0.0     0.0     0.0   \n",
       "3           0.0    0.0     0.0     0.0     0.0     0.0    0.0     0.0     0.0   \n",
       "4           0.0    0.0     0.0     0.0     0.0     0.0    0.0     0.0     0.0   \n",
       "5           0.0    0.0     0.0     0.0     0.0     0.0    0.0     0.0     0.0   \n",
       "\n",
       "article_id  1016.0  ...  977.0  98.0  981.0  984.0  985.0  986.0  990.0  \\\n",
       "user_id             ...                                                   \n",
       "1              0.0  ...    0.0   0.0    1.0    0.0    0.0    0.0    0.0   \n",
       "2              0.0  ...    0.0   0.0    0.0    0.0    0.0    0.0    0.0   \n",
       "3              0.0  ...    1.0   0.0    0.0    0.0    0.0    0.0    0.0   \n",
       "4              0.0  ...    0.0   0.0    0.0    0.0    0.0    0.0    0.0   \n",
       "5              0.0  ...    0.0   0.0    0.0    0.0    0.0    0.0    0.0   \n",
       "\n",
       "article_id  993.0  996.0  997.0  \n",
       "user_id                          \n",
       "1             0.0    0.0    0.0  \n",
       "2             0.0    0.0    0.0  \n",
       "3             0.0    0.0    0.0  \n",
       "4             0.0    0.0    0.0  \n",
       "5             0.0    0.0    0.0  \n",
       "\n",
       "[5 rows x 714 columns]"
      ]
     },
     "execution_count": 59,
     "metadata": {},
     "output_type": "execute_result"
    }
   ],
   "source": [
    "# Quick look at the matrix.\n",
    "user_item_matrix.head()"
   ]
  },
  {
   "cell_type": "markdown",
   "metadata": {},
   "source": [
    " "
   ]
  },
  {
   "cell_type": "markdown",
   "metadata": {},
   "source": [
    " "
   ]
  },
  {
   "cell_type": "markdown",
   "metadata": {},
   "source": [
    " "
   ]
  },
  {
   "cell_type": "markdown",
   "metadata": {},
   "source": [
    " "
   ]
  },
  {
   "cell_type": "markdown",
   "metadata": {},
   "source": [
    "`2.` **Task**: In this situation, you can use Singular Value Decomposition from [numpy](https://docs.scipy.org/doc/numpy-1.14.0/reference/generated/numpy.linalg.svd.html) on the user-item matrix.  Use the cell to perform SVD, and explain why this is different than in the lesson."
   ]
  },
  {
   "cell_type": "code",
   "execution_count": 60,
   "metadata": {},
   "outputs": [
    {
     "data": {
      "text/plain": [
       "((714,), (5149, 5149), (714, 714))"
      ]
     },
     "execution_count": 60,
     "metadata": {},
     "output_type": "execute_result"
    }
   ],
   "source": [
    "# Perform SVD on the User-Item Matrix.\n",
    "u, s, vt = np.linalg.svd(user_item_matrix)\n",
    "s.shape, u.shape, vt.shape"
   ]
  },
  {
   "cell_type": "code",
   "execution_count": 61,
   "metadata": {},
   "outputs": [
    {
     "data": {
      "text/html": [
       "<div>\n",
       "<style scoped>\n",
       "    .dataframe tbody tr th:only-of-type {\n",
       "        vertical-align: middle;\n",
       "    }\n",
       "\n",
       "    .dataframe tbody tr th {\n",
       "        vertical-align: top;\n",
       "    }\n",
       "\n",
       "    .dataframe thead th {\n",
       "        text-align: right;\n",
       "    }\n",
       "</style>\n",
       "<table border=\"1\" class=\"dataframe\">\n",
       "  <thead>\n",
       "    <tr style=\"text-align: right;\">\n",
       "      <th>article_id</th>\n",
       "      <th>0.0</th>\n",
       "      <th>100.0</th>\n",
       "      <th>1000.0</th>\n",
       "      <th>1004.0</th>\n",
       "      <th>1006.0</th>\n",
       "      <th>1008.0</th>\n",
       "      <th>101.0</th>\n",
       "      <th>1014.0</th>\n",
       "      <th>1015.0</th>\n",
       "      <th>1016.0</th>\n",
       "      <th>...</th>\n",
       "      <th>977.0</th>\n",
       "      <th>98.0</th>\n",
       "      <th>981.0</th>\n",
       "      <th>984.0</th>\n",
       "      <th>985.0</th>\n",
       "      <th>986.0</th>\n",
       "      <th>990.0</th>\n",
       "      <th>993.0</th>\n",
       "      <th>996.0</th>\n",
       "      <th>997.0</th>\n",
       "    </tr>\n",
       "    <tr>\n",
       "      <th>user_id</th>\n",
       "      <th></th>\n",
       "      <th></th>\n",
       "      <th></th>\n",
       "      <th></th>\n",
       "      <th></th>\n",
       "      <th></th>\n",
       "      <th></th>\n",
       "      <th></th>\n",
       "      <th></th>\n",
       "      <th></th>\n",
       "      <th></th>\n",
       "      <th></th>\n",
       "      <th></th>\n",
       "      <th></th>\n",
       "      <th></th>\n",
       "      <th></th>\n",
       "      <th></th>\n",
       "      <th></th>\n",
       "      <th></th>\n",
       "      <th></th>\n",
       "      <th></th>\n",
       "    </tr>\n",
       "  </thead>\n",
       "  <tbody>\n",
       "  </tbody>\n",
       "</table>\n",
       "<p>0 rows × 714 columns</p>\n",
       "</div>"
      ],
      "text/plain": [
       "Empty DataFrame\n",
       "Columns: [0.0, 100.0, 1000.0, 1004.0, 1006.0, 1008.0, 101.0, 1014.0, 1015.0, 1016.0, 1017.0, 1018.0, 102.0, 1024.0, 1025.0, 1028.0, 103.0, 1030.0, 1035.0, 1038.0, 1042.0, 1043.0, 1044.0, 1047.0, 1048.0, 1050.0, 1051.0, 1052.0, 1053.0, 1054.0, 1055.0, 1056.0, 1057.0, 1058.0, 1059.0, 1060.0, 1061.0, 1062.0, 1063.0, 1064.0, 1065.0, 1066.0, 1067.0, 1068.0, 1069.0, 107.0, 1070.0, 1071.0, 1072.0, 1073.0, 1074.0, 1075.0, 1077.0, 1078.0, 1079.0, 108.0, 1080.0, 1083.0, 1084.0, 1085.0, 1086.0, 1089.0, 109.0, 1091.0, 1092.0, 1097.0, 110.0, 1101.0, 1106.0, 1108.0, 111.0, 1112.0, 1113.0, 1114.0, 1116.0, 1119.0, 112.0, 1120.0, 1121.0, 1122.0, 1123.0, 1124.0, 1125.0, 1127.0, 1128.0, 113.0, 1130.0, 1134.0, 1135.0, 1137.0, 1138.0, 1139.0, 1140.0, 1141.0, 1142.0, 1143.0, 1144.0, 1145.0, 1146.0, 1147.0, ...]\n",
       "Index: []\n",
       "\n",
       "[0 rows x 714 columns]"
      ]
     },
     "execution_count": 61,
     "metadata": {},
     "output_type": "execute_result"
    }
   ],
   "source": [
    "user_item_matrix[user_item_matrix.isna().any(1)]"
   ]
  },
  {
   "cell_type": "markdown",
   "metadata": {},
   "source": [
    "> **Response**: This user_item_matrix has no missing data - it's a clean dataset. We can hence apply the Single Value Decomposition implementation provided by Numpy. This SVD approach splits the data into three matrices: U, S, Vt.\n",
    "\n",
    "> By contrast, in the lesson we had a different dataset with missing entries. We thus had to use FunkSVD. This approach does not generate a S matrix (i.e., the matrix indicating how much each latent feature matters in predicting a rating)."
   ]
  },
  {
   "cell_type": "markdown",
   "metadata": {},
   "source": [
    " "
   ]
  },
  {
   "cell_type": "markdown",
   "metadata": {},
   "source": [
    " "
   ]
  },
  {
   "cell_type": "markdown",
   "metadata": {},
   "source": [
    " "
   ]
  },
  {
   "cell_type": "markdown",
   "metadata": {},
   "source": [
    " "
   ]
  },
  {
   "cell_type": "markdown",
   "metadata": {},
   "source": [
    "`3.` **Task**: Now for the tricky part, how do we choose the number of latent features to use?  Running the below cell, you can see that as the number of latent features increases, we obtain a lower error rate on making predictions for the 1 and 0 values in the user-item matrix.  Run the cell below to get an idea of how the accuracy improves as we increase the number of latent features."
   ]
  },
  {
   "cell_type": "code",
   "execution_count": 62,
   "metadata": {},
   "outputs": [
    {
     "data": {
      "image/png": "[encoded data removed]",
      "text/plain": [
       "<Figure size 432x288 with 1 Axes>"
      ]
     },
     "metadata": {
      "needs_background": "light"
     },
     "output_type": "display_data"
    }
   ],
   "source": [
    "num_latent_feats = np.arange(10,700+10,20)\n",
    "sum_errs = []\n",
    "\n",
    "for k in num_latent_feats:\n",
    "    # restructure with k latent features\n",
    "    s_new, u_new, vt_new = np.diag(s[:k]), u[:, :k], vt[:k, :]\n",
    "    \n",
    "    # take dot product\n",
    "    user_item_est = np.around(np.dot(np.dot(u_new, s_new), vt_new))\n",
    "    \n",
    "    # compute error for each prediction to actual value\n",
    "    diffs = np.subtract(user_item_matrix, user_item_est)\n",
    "    \n",
    "    # total errors and keep track of them\n",
    "    err = np.sum(np.sum(np.abs(diffs)))\n",
    "    sum_errs.append(err)\n",
    "    \n",
    "    \n",
    "plt.plot(num_latent_feats, 1 - np.array(sum_errs)/df.shape[0]);\n",
    "plt.xlabel('Number of Latent Features');\n",
    "plt.ylabel('Accuracy');\n",
    "plt.title('Accuracy vs. Number of Latent Features');"
   ]
  },
  {
   "cell_type": "markdown",
   "metadata": {},
   "source": [
    " "
   ]
  },
  {
   "cell_type": "markdown",
   "metadata": {},
   "source": [
    " "
   ]
  },
  {
   "cell_type": "markdown",
   "metadata": {},
   "source": [
    " "
   ]
  },
  {
   "cell_type": "markdown",
   "metadata": {},
   "source": [
    " "
   ]
  },
  {
   "cell_type": "markdown",
   "metadata": {},
   "source": [
    "`4.` **Task**: From the above, we can't really be sure how many features to use, because simply having a better way to predict the 1's and 0's of the matrix doesn't exactly give us an indication of if we are able to make good recommendations.  Instead, we might split our dataset into a training and test set of data, as shown in the cell below.  \n",
    "\n",
    "Use the code from question 3 to understand the impact on accuracy of the training and test sets of data with different numbers of latent features. Using the split below: \n",
    "\n",
    "* How many users can we make predictions for in the test set?  \n",
    "* How many users are we not able to make predictions for because of the cold start problem?\n",
    "* How many articles can we make predictions for in the test set?  \n",
    "* How many articles are we not able to make predictions for because of the cold start problem?"
   ]
  },
  {
   "cell_type": "code",
   "execution_count": 63,
   "metadata": {},
   "outputs": [],
   "source": [
    "def create_test_and_train_user_item(dataframe=df):\n",
    "    \"\"\"Creates user-item matrices from already split train and test data sets.\n",
    "    \n",
    "    INPUT:\n",
    "    :param dataframe: pandas.core.frame.DataFrame: A dataframe like 'df' in this .ipynb file.\n",
    "    \n",
    "    OUTPUT:\n",
    "    :return user_item_train: pandas.core.frame.DataFrame: A user-item matrix of the training dataframe (unique users for each\n",
    "    row and unique articles for each column)\n",
    "    :return user_item_test: pandas.core.frame.DataFrame: A user-item matrix of the testing dataframe (unique users for each\n",
    "    row and unique articles for each column)\n",
    "    :return test_idx: list of int: All of the test user IDs\n",
    "    :return test_arts: list of float: All of the test article IDs\n",
    "    \"\"\"\n",
    "    \n",
    "    df = dataframe.copy()\n",
    "    df_train = df.head(40000)\n",
    "    df_test = df.tail(5993)\n",
    "    \n",
    "    user_item_train = create_user_item_matrix(df_train)\n",
    "    user_item_test = create_user_item_matrix(df_test)\n",
    "    test_idx = list(user_item_test.index.values)\n",
    "    test_arts = list(user_item_test)\n",
    "    \n",
    "    return user_item_train, user_item_test, test_idx, test_arts"
   ]
  },
  {
   "cell_type": "code",
   "execution_count": 64,
   "metadata": {},
   "outputs": [],
   "source": [
    "user_item_train, user_item_test, test_idx, test_arts = create_test_and_train_user_item()"
   ]
  },
  {
   "cell_type": "code",
   "execution_count": 65,
   "metadata": {},
   "outputs": [
    {
     "name": "stdout",
     "output_type": "stream",
     "text": [
      "We can make predictions for 20 users in the test set.\n",
      "We cannot make predictions for 662 users in the test set.\n",
      "We can make predictions for 574 articles in the test set.\n",
      "We cannot make predictions for 0 articles in the test set.\n"
     ]
    }
   ],
   "source": [
    "# How many users can we make predictions for in the test set?\n",
    "# -> In other words, which users in the test set are already part of the training set.\n",
    "train_idx = list(user_item_train.index.values)\n",
    "question_one_answer = len([i for i in test_idx if i in train_idx])\n",
    "print(\"We can make predictions for {} users in the test set.\".format(question_one_answer))\n",
    "\n",
    "# How many users in the test set are we not able to make predictions for because of the cold start problem?\n",
    "# -> In other words, how many users are in the test set but not in the training set - or which users are considered to be new\n",
    "# to our database.\n",
    "question_two_answer = len([i for i in test_idx if i not in train_idx])\n",
    "print(\"We cannot make predictions for {} users in the test set.\".format(question_two_answer))\n",
    "\n",
    "# How many movies (articles?) can we make predictions for in the test set?\n",
    "# -> Find movies which are both in the test set and in the train set.\n",
    "train_arts = list(user_item_train)\n",
    "question_three_answer = len([i for i in test_arts if i in train_arts])\n",
    "print(\"We can make predictions for {} articles in the test set.\".format(question_three_answer))\n",
    "\n",
    "# How many movies (articles?) in the test set are we not able to make predictions for because of the cold start problem?\n",
    "# -> Find movies which are in the test set but not in the train set.\n",
    "question_four_answer = len([i for i in test_arts if i not in train_arts])\n",
    "print(\"We cannot make predictions for {} articles in the test set.\".format(question_four_answer))"
   ]
  },
  {
   "cell_type": "code",
   "execution_count": 66,
   "metadata": {},
   "outputs": [
    {
     "name": "stdout",
     "output_type": "stream",
     "text": [
      "Awesome job!  That's right!  All of the test movies are in the training data, but there are only 20 test users that were also in the training set.  All of the other users that are in the test set we have no data on.  Therefore, we cannot make predictions for these users using SVD.\n"
     ]
    }
   ],
   "source": [
    "# Replace the values in the dictionary below.\n",
    "a = 662 \n",
    "b = 574 \n",
    "c = 20 \n",
    "d = 0 \n",
    "\n",
    "\n",
    "sol_4_dict = {\n",
    "    'How many users can we make predictions for in the test set?': question_one_answer, \n",
    "    'How many users in the test set are we not able to make predictions for because of the cold start problem?': question_two_answer, \n",
    "    'How many movies can we make predictions for in the test set?': question_three_answer,\n",
    "    'How many movies in the test set are we not able to make predictions for because of the cold start problem?': question_four_answer\n",
    "}\n",
    "\n",
    "t.sol_4_test(sol_4_dict)"
   ]
  },
  {
   "cell_type": "markdown",
   "metadata": {},
   "source": [
    " "
   ]
  },
  {
   "cell_type": "markdown",
   "metadata": {},
   "source": [
    " "
   ]
  },
  {
   "cell_type": "markdown",
   "metadata": {},
   "source": [
    " "
   ]
  },
  {
   "cell_type": "markdown",
   "metadata": {},
   "source": [
    " "
   ]
  },
  {
   "cell_type": "markdown",
   "metadata": {},
   "source": [
    "`5.` **Task**: Now use the **user_item_train** dataset from above to find U, S, and V transpose using SVD. Then find the subset of rows in the **user_item_test** dataset that you can predict using this matrix decomposition with different numbers of latent features to see how many features makes sense to keep based on the accuracy on the test data. This will require combining what was done in questions `2` - `4`."
   ]
  },
  {
   "cell_type": "code",
   "execution_count": 67,
   "metadata": {},
   "outputs": [
    {
     "data": {
      "text/plain": [
       "((4487, 714), (4487, 4487), (714,), (714, 714))"
      ]
     },
     "execution_count": 67,
     "metadata": {},
     "output_type": "execute_result"
    }
   ],
   "source": [
    "# fit SVD on the user_item_train matrix\n",
    "u_train, s_train, vt_train = np.linalg.svd(user_item_train)\n",
    "user_item_train.shape, u_train.shape, s_train.shape, vt_train.shape"
   ]
  },
  {
   "cell_type": "code",
   "execution_count": 68,
   "metadata": {},
   "outputs": [],
   "source": [
    "# Determine the subset of user_item_test which includes only users who are already in the train set.\n",
    "test_set_sub_ids = [i for i in test_idx if i in train_idx]\n",
    "user_item_test_new = user_item_test[user_item_test.index.isin(test_set_sub_ids)]\n",
    "\n",
    "# Determine the subset of user_item_test which includes only users who are already in the train set.\n",
    "test_set_sub_arts = [int(i) for i in test_arts if i in train_arts]"
   ]
  },
  {
   "cell_type": "code",
   "execution_count": 69,
   "metadata": {},
   "outputs": [
    {
     "name": "stdout",
     "output_type": "stream",
     "text": [
      "(20, 4487)\n",
      "(714, 574)\n"
     ]
    }
   ],
   "source": [
    "# Slice the U (train) matrix (i.e., training set on how users feel about latent features) to include only the subset of\n",
    "# user_item_test.\n",
    "test_set_sub_ids[-1] = 4486\n",
    "u_test = u_train[test_set_sub_ids, :]\n",
    "print(u_test.shape)\n",
    "\n",
    "# Find the IDs of articles that are both in the test as well as the train set.\n",
    "test_articles_ids = [element for element in list(user_item_train) if element in list(user_item_test)]\n",
    "\n",
    "# Filter the train set for these article IDs.\n",
    "test_articles = user_item_train.columns.isin(test_articles_ids)\n",
    "\n",
    "# Slice the Vt (train) matrix (i.e., training set on how items relate to each latent feature) to include only the subset of\n",
    "# user_item_test.\n",
    "vt_test = vt_train[:, test_articles]\n",
    "print(vt_test.shape)"
   ]
  },
  {
   "cell_type": "code",
   "execution_count": 70,
   "metadata": {},
   "outputs": [
    {
     "data": {
      "text/plain": [
       "Text(0.5, 1.0, 'Accuracy vs. Number of Latent Features')"
      ]
     },
     "execution_count": 70,
     "metadata": {},
     "output_type": "execute_result"
    },
    {
     "data": {
      "image/png": "[encoded data removed]",
      "text/plain": [
       "<Figure size 432x288 with 1 Axes>"
      ]
     },
     "metadata": {
      "needs_background": "light"
     },
     "output_type": "display_data"
    }
   ],
   "source": [
    "num_latent_feats = np.arange(10,700+10,20)\n",
    "sum_square_errs_train = []\n",
    "sum_square_errs_test = []\n",
    "\n",
    "for k in num_latent_feats:\n",
    "    # Restructure with k latent features.\n",
    "    s_train_new, u_train_new, vt_train_new = np.diag(s_train[:k]), u_train[:, :k], vt_train[:k, :]\n",
    "    u_test_new, vt_test_new = u_test[:, :k], vt_test[:k, :]\n",
    "    \n",
    "    # Take the dot product to make predictions.\n",
    "    user_item_train_set_pred_interactions = np.around(np.dot(np.dot(u_train_new, s_train_new), vt_train_new))\n",
    "    user_item_test_set_pred_interactions = np.around(np.dot(np.dot(u_test_new, s_train_new), vt_test_new))\n",
    "    \n",
    "    # Calculate the sum of squared errors for the train set.\n",
    "    err_train = np.sum(np.sum((user_item_train - user_item_train_set_pred_interactions)**2))\n",
    "    sum_square_errs_train.append(err_train)\n",
    "    \n",
    "    # Calculate the sum of squared errors for the test set.\n",
    "    err_test = np.sum(np.sum((user_item_test_new - user_item_test_set_pred_interactions)**2))\n",
    "    sum_square_errs_test.append(err_test)\n",
    "\n",
    "# Plot the sum of squared error per user-item interaction vs. the number of latent features.\n",
    "user_item_train_n_interactions = user_item_train.shape[0]*user_item_train.shape[1]\n",
    "user_item_test_n_interactions = user_item_test_new.shape[0]*user_item_test_new.shape[1]\n",
    "\n",
    "plt.plot(num_latent_feats, 1 - np.array(sum_square_errs_train)/user_item_train_n_interactions, label='training dataset')\n",
    "plt.plot(num_latent_feats, 1 - np.array(sum_square_errs_test)/user_item_test_n_interactions, label='testing dataset')\n",
    "plt.xlabel('Number of Latent Features')\n",
    "plt.ylabel('Accuracy')\n",
    "plt.legend()\n",
    "plt.title('Accuracy vs. Number of Latent Features')"
   ]
  },
  {
   "cell_type": "code",
   "execution_count": 71,
   "metadata": {},
   "outputs": [
    {
     "name": "stdout",
     "output_type": "stream",
     "text": [
      "Note: The testing dataset made up 20 users from a share of 13.0% of the original data in 'df'.\n"
     ]
    }
   ],
   "source": [
    "# For our conclusion, find the share of the testing dataset in 'df'.\n",
    "df_test_share = len(df.tail(5993)) / len(df) * 100\n",
    "\n",
    "print(\"Note: The testing dataset made up 20 users from a share of {}% of the original data in 'df'.\".format(np.round(df_test_share)))"
   ]
  },
  {
   "cell_type": "markdown",
   "metadata": {},
   "source": [
    " "
   ]
  },
  {
   "cell_type": "markdown",
   "metadata": {},
   "source": [
    " "
   ]
  },
  {
   "cell_type": "markdown",
   "metadata": {},
   "source": [
    " "
   ]
  },
  {
   "cell_type": "markdown",
   "metadata": {},
   "source": [
    " "
   ]
  },
  {
   "cell_type": "markdown",
   "metadata": {
    "collapsed": true
   },
   "source": [
    "`6.` **Task**: Use the cell below to comment on the results you found in the previous question. Given the circumstances of your results, discuss what you might do to determine if the recommendations you make with any of the above recommendation systems are an improvement to how users currently find articles? "
   ]
  },
  {
   "cell_type": "markdown",
   "metadata": {},
   "source": [
    "> **Response**: To answer this question, I first summarize the **steps taken** for the offline validation of the recommendation system using the SVD approach and what can now be regarded as a **finding** from the above graph. I then outline possible **next steps** with an A/B testing framework to evaluate the use of recommender engines for finding articles.\n",
    "\n",
    "**Steps taken**:\n",
    "With the decomposition of the training dataset (into U_train, S_train, Vt_train), we can use S_train along a set of users (*n* = 20) from the testing dataset. Since these users are already known to our database, we can predict their interaction with articles through simulations with various amounts of latent features.\n",
    "\n",
    "We can then also measure the accuracy of these predicitions by plotting the relation of the sum of squared errors and the count of possible interactions in the training (or testing) dataset against the number of simulated latent features.\n",
    "\n",
    "**Finding**:\n",
    "As the graph above shows, the accuracy of the training set increases up to a score of almost 1.00, given a number of latent features below 310. If more than 310 latent features are used in the decomposition of the training data, the accuracy of our predictions for user-item interactions will not improve much further. We can observe an overfitting here, which makes sense if we add ever more features to make predictions with our data.\n",
    "\n",
    "In contrast, the accuracy of the testing set decreases to a score of almost 0.90, given a number of latent features below 310. If more latent features are added, the accuracy of the predictions in the testing set remains at a score of 0.90.\n",
    "\n",
    "From this graph, we could conclude that with a small amount of latent features (e.g., 10), we would have a decent accuracy of predictions in both the training and the testing dataset. It wouldn't make sense to specify around 310 latent features, if the accuracy in the testing dataset would deteriorate in turn. However, these conclusions come at the limitation of having 20 users in the testing dataset only. With this small testing dataset, it makes more sense to increase the number of users in the testing dataset by splitting 'df' differently. At the moment, the user-item matrices from df had a split of 87% for training and 13% for testing. Therefore we could increase the share for the set of users in the testing dataset.\n",
    "\n",
    "**Next steps**:\n",
    "Nonetheless, I would instead choose an online method, such as A/B testing, for validating the performance of the above recommender systems. Usually, two conditions (i.e., access and active user base) are considered to be impediments to online methods for evaluating recommendation engines (see Aggarwal, 2016, pp. 225-226). However, these conditions do not represent challenges in our case. \n",
    "\n",
    "Firstly, the IBM Watson Studio platform is already live. As this recommendation system project was set up together with IBM, we would have access to the platform. Secondly, the platform has a large and active user base (*n* = 5148). In light of these circumstances, an online method for validating the performance of our recommendation systems is adequate.\n",
    "\n",
    "Subsequently, I would follow these steps in designing the A/B testing framework:\n",
    "> - **Define the goal of the A/B test**: A possible goal could be to increase the user engagement on the IBM Watson Studio platform.\n",
    "> - **Review the user funnel** (i.e., the steps taken by the user on the platform).\n",
    "> - **Specify the unit of diversion**, such as a cookie-based diversion (i.e., where and when to split into a control and an experimental group based on what criterion). A control group gets access to an old version of the platform (or only a list of top read articles as a recommendation). In contrast to this baseline group, an experimental group receives article recommendations on a new version of the platform. Thereby, we could test the baseline (no recommender engine) against the experiment (any recommendation engine). At this point, we could also test a rank-based recommendation system against a collaborative filtering recommender system. Another possibility would be to interleave the groups, i.e. \"the same user can be shown one of the [recommendation] algorithms at random\" (Aggarwal, 2016, p. 228). I prefer to choose the first variant of splitting into a control and an experimental group. Thereby, we could ascribe any changes in the interaction of users with specific articles to a recommendation engine.\n",
    "> - **Define an invariant metric**: As suggested by the previous chapter, I would also count the number of cookies generated for each condition. There should be no large statistically significant difference between the control and the experimental group.\n",
    "> - **Determine an evaluation metric**: This would refer to a metric associated with the user engagement, such as the conversion rate which \"measures the frequency with which a user selects a recommended item\" (Aggarwal, 2016, p. 228). We could track whether the conversion rate changes for specific articles that have had less interactions than most of the other articles (thus far). If we could observe an increased interaction of users with formerly less visited articles, we could argue that the recommendation engine improves the way users find articles on the IBM Watson Studio platform.\n",
    "> - **Formulate the hypotheses**: With our goal of increasing the user engagement on the platform, we would need to conduct a one-tailed hypothesis test regarding the evaluation metric. Our alternative hypothesis would thus be as follows: \"The experimental group has an conversion rate to less commonly known articles which is higher than the conversion rate of the control group to the same articles\". We would finally have to calculate the z-score and the p-value to come to a test result.\n",
    "\n",
    "**References**:\n",
    "- Aggarwal, C.C. (2006). *Recommender systems: The textbook*. Springer International Publishing Switzerland."
   ]
  },
  {
   "cell_type": "markdown",
   "metadata": {},
   "source": [
    " "
   ]
  },
  {
   "cell_type": "markdown",
   "metadata": {},
   "source": [
    " "
   ]
  },
  {
   "cell_type": "markdown",
   "metadata": {},
   "source": [
    " "
   ]
  },
  {
   "cell_type": "markdown",
   "metadata": {},
   "source": [
    " "
   ]
  },
  {
   "cell_type": "markdown",
   "metadata": {
    "collapsed": true
   },
   "source": [
    "<a id='conclusions'></a>\n",
    "### Extras\n",
    "Using your workbook, you could now save your recommendations for each user, develop a class to make new predictions and update your results, and make a flask app to deploy your results.  These tasks are beyond what is required for this project.  However, from what you learned in the lessons, you certainly capable of taking these tasks on to improve upon your work here!\n",
    "\n",
    "\n",
    "## Conclusion\n",
    "\n",
    "> Congratulations!  You have reached the end of the Recommendations with IBM project! \n",
    "\n",
    "## Directions to Submit\n",
    "\n",
    "> Before you submit your project, you need to create a .html or .pdf version of this notebook in the workspace here. To do that, run the code cell below. If it worked correctly, you should get a return code of 0, and you should see the generated .html file in the workspace directory (click on the orange Jupyter icon in the upper left).\n",
    "\n",
    "> Alternatively, you can download this report as .html via the **File** > **Download as** submenu, and then manually upload it into the workspace directory by clicking on the orange Jupyter icon in the upper left, then using the Upload button.\n",
    "\n",
    "> Once you've done this, you can submit your project by clicking on the \"Submit Project\" button in the lower right here. This will create and submit a zip file with this .ipynb doc and the .html or .pdf version you created. Congratulations! "
   ]
  },
  {
   "cell_type": "code",
   "execution_count": 74,
   "metadata": {},
   "outputs": [
    {
     "data": {
      "text/plain": [
       "0"
      ]
     },
     "execution_count": 74,
     "metadata": {},
     "output_type": "execute_result"
    }
   ],
   "source": [
    "from subprocess import call\n",
    "call(['python', '-m', 'nbconvert', 'recommendations_notebook.ipynb'])"
   ]
  }
 ],
 "metadata": {
  "kernelspec": {
   "display_name": "Python 3",
   "language": "python",
   "name": "python3"
  },
  "language_info": {
   "codemirror_mode": {
    "name": "ipython",
    "version": 3
   },
   "file_extension": ".py",
   "mimetype": "text/x-python",
   "name": "python",
   "nbconvert_exporter": "python",
   "pygments_lexer": "ipython3",
   "version": "3.7.1"
  }
 },
 "nbformat": 4,
 "nbformat_minor": 2
}
